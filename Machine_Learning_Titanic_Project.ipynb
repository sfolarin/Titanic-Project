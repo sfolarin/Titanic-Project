{
 "cells": [
  {
   "cell_type": "markdown",
   "id": "76afb803",
   "metadata": {},
   "source": [
    "#    EVEN GOD HIMSELF CANNOT SINK THIS SHIP :  Edward John Smith!"
   ]
  },
  {
   "cell_type": "markdown",
   "id": "b604ff08",
   "metadata": {},
   "source": [
    "![Titanic](https://assets.gqindia.com/photos/5cdc1173b6f0b3b382c7019a/4:3/w_1440,h_1080,c_limit/titanic-top-image.jpg)"
   ]
  },
  {
   "cell_type": "code",
   "execution_count": 940,
   "id": "9fe7fed9",
   "metadata": {},
   "outputs": [],
   "source": [
    "# from IPython.display import YouTubeVideo"
   ]
  },
  {
   "cell_type": "code",
   "execution_count": 941,
   "id": "ab115b91",
   "metadata": {},
   "outputs": [],
   "source": [
    "# id = 'AIJKvL99stU'\n",
    "# YouTubeVideo(id=id, width=900, height =400)"
   ]
  },
  {
   "cell_type": "markdown",
   "id": "5d271834",
   "metadata": {},
   "source": [
    "# Project Problem Statement\n",
    "In this Project, there are two similar datasets that include passenger information like name, age, gender, socio-economic class, etc. One dataset is titled `train.csv` and the other is titled `test.csv`.\n",
    "\n",
    "Train.csv contains the details of a subset of the passengers on board (891 to be exact) and reveal whether they survived or not, also known as the “ground truth”.\n",
    "\n",
    "The `test.csv` dataset contains similar information but does not disclose the “ground truth” for each passenger. It’s our job to predict these outcomes.\n",
    "\n",
    "Using the patterns we find in the train.csv data, we want to predict whether the other 418 passengers on board (found in test.csv) survived.\n"
   ]
  },
  {
   "cell_type": "markdown",
   "id": "18cab1b4",
   "metadata": {},
   "source": [
    "The attributes have the following meaning:\n",
    "* **PassengerId**: a unique identifier for each passenger\n",
    "* **Survived**: that's the target, 0 means the passenger did not survive, while 1 means he/she survived.\n",
    "* **Pclass**: passenger class.\n",
    "* **Name**, **Sex**, **Age**: self-explanatory\n",
    "* **SibSp**: how many siblings & spouses of the passenger aboard the Titanic.\n",
    "* **Parch**: how many children & parents of the passenger aboard the Titanic.\n",
    "* **Ticket**: ticket id\n",
    "* **Fare**: price paid (in pounds)\n",
    "* **Cabin**: passenger's cabin number\n",
    "* **Embarked**: where the passenger embarked the Titanic"
   ]
  },
  {
   "cell_type": "markdown",
   "id": "e0ecb3f4",
   "metadata": {},
   "source": [
    "#  Importing libraries and data"
   ]
  },
  {
   "cell_type": "code",
   "execution_count": 859,
   "id": "cf0bc954",
   "metadata": {},
   "outputs": [],
   "source": [
    "import os\n",
    "import warnings\n",
    "warnings.simplefilter(action = 'ignore', category=FutureWarning)\n",
    "warnings.filterwarnings('ignore')\n",
    "def ignore_warn(*args, **kwargs):\n",
    "    pass\n",
    "warnings.warn = ignore_warn \n",
    "import numpy as np\n",
    "import pandas as pd\n",
    "import pylab \n",
    "import seaborn as sns\n",
    "sns.set(style=\"ticks\", color_codes=True, font_scale=1.5)\n",
    "from matplotlib import pyplot as plt\n",
    "from matplotlib.ticker import FormatStrFormatter\n",
    "from matplotlib.colors import ListedColormap\n",
    "%matplotlib inline\n",
    "import mpl_toolkits\n",
    "from mpl_toolkits.mplot3d import Axes3D\n",
    "#import model_evaluation_utils as meu\n",
    "from scipy.stats import skew, norm, probplot, boxcox\n",
    "from patsy import dmatrices\n",
    "import statsmodels.api as sm\n",
    "from statsmodels.stats.outliers_influence import variance_inflation_factor\n",
    "from sklearn.feature_selection import f_classif, chi2, SelectKBest, SelectFromModel\n",
    "from sklearn.metrics import accuracy_score ,confusion_matrix,classification_report\n",
    "from sklearn.linear_model import LogisticRegression\n",
    "from sklearn.linear_model import SGDClassifier\n",
    "from sklearn.model_selection import GridSearchCV\n",
    "from sklearn.decomposition import PCA, KernelPCA\n",
    "from sklearn.discriminant_analysis import LinearDiscriminantAnalysis as LDA\n",
    "from sklearn.preprocessing import StandardScaler, PolynomialFeatures, MinMaxScaler\n",
    "from sklearn.pipeline import Pipeline, make_pipeline\n",
    "from sklearn.metrics import roc_auc_score, roc_curve, auc, accuracy_score\n",
    "from sklearn.linear_model import LogisticRegression, SGDClassifier\n",
    "from sklearn.svm import SVC, LinearSVC\n",
    "from sklearn.gaussian_process import GaussianProcessClassifier\n",
    "from sklearn.naive_bayes import GaussianNB\n",
    "from sklearn.gaussian_process.kernels import RBF\n",
    "from sklearn.tree import DecisionTreeClassifier\n",
    "from sklearn.ensemble import RandomForestClassifier, AdaBoostClassifier, ExtraTreesClassifier\n",
    "from sklearn.neural_network import MLPClassifier\n",
    "from sklearn.neighbors import KNeighborsClassifier\n",
    "from sklearn.ensemble import VotingClassifier\n",
    "from sklearn.ensemble import AdaBoostClassifier\n",
    "from itertools import combinations\n",
    "import sklearn.metrics as metrics\n",
    "from sklearn.model_selection import cross_val_score\n",
    "# import lightgbm as lgb\n",
    "# import xgboost as xgb\n",
    "from xgboost import XGBClassifier\n",
    "from lightgbm import LGBMClassifier\n"
   ]
  },
  {
   "cell_type": "markdown",
   "id": "f4ee5919",
   "metadata": {},
   "source": [
    "## Loading the Data"
   ]
  },
  {
   "cell_type": "code",
   "execution_count": 860,
   "id": "fbd6f615",
   "metadata": {},
   "outputs": [],
   "source": [
    "import pandas as pd\n",
    "train_dataset = pd.read_csv('train.csv')\n",
    "test_dataset = pd.read_csv('test.csv')\n"
   ]
  },
  {
   "cell_type": "code",
   "execution_count": 861,
   "id": "6e9b8082",
   "metadata": {},
   "outputs": [],
   "source": [
    "test_dataset['Survived'] = train_dataset['Survived']"
   ]
  },
  {
   "cell_type": "markdown",
   "id": "76b2e3fa",
   "metadata": {},
   "source": [
    "# Concatenate train and test data together to perform exploratory analysis"
   ]
  },
  {
   "cell_type": "code",
   "execution_count": 862,
   "id": "cf008afe",
   "metadata": {},
   "outputs": [],
   "source": [
    "Test_ID = test_dataset.PassengerId\n",
    "Titanic = pd.concat([train_dataset, test_dataset], ignore_index=True)"
   ]
  },
  {
   "cell_type": "markdown",
   "id": "93127436",
   "metadata": {},
   "source": [
    "# Exploratory Data Analysis (EDA) & Feature Engineering"
   ]
  },
  {
   "cell_type": "code",
   "execution_count": 863,
   "id": "970e749c",
   "metadata": {},
   "outputs": [
    {
     "name": "stdout",
     "output_type": "stream",
     "text": [
      "<class 'pandas.core.frame.DataFrame'>\n",
      "RangeIndex: 1309 entries, 0 to 1308\n",
      "Data columns (total 12 columns):\n",
      " #   Column       Non-Null Count  Dtype  \n",
      "---  ------       --------------  -----  \n",
      " 0   PassengerId  1309 non-null   int64  \n",
      " 1   Survived     1309 non-null   int64  \n",
      " 2   Pclass       1309 non-null   int64  \n",
      " 3   Name         1309 non-null   object \n",
      " 4   Sex          1309 non-null   object \n",
      " 5   Age          1046 non-null   float64\n",
      " 6   SibSp        1309 non-null   int64  \n",
      " 7   Parch        1309 non-null   int64  \n",
      " 8   Ticket       1309 non-null   object \n",
      " 9   Fare         1308 non-null   float64\n",
      " 10  Cabin        295 non-null    object \n",
      " 11  Embarked     1307 non-null   object \n",
      "dtypes: float64(2), int64(5), object(5)\n",
      "memory usage: 122.8+ KB\n"
     ]
    }
   ],
   "source": [
    "Titanic.info()"
   ]
  },
  {
   "cell_type": "markdown",
   "id": "f91eddc6",
   "metadata": {},
   "source": [
    "#####  The field Name in the training and test data has the form \"Braund, Mr. Owen Harris\". Since name is unique for each passenger, it is not useful for our prediction system. However, a passenger's title can be extracted from his or her name."
   ]
  },
  {
   "cell_type": "code",
   "execution_count": 864,
   "id": "3b887736",
   "metadata": {},
   "outputs": [],
   "source": [
    "data = [train_dataset, test_dataset]\n",
    "titles = {\"Mr\": 1, \"Miss\": 2, \"Mrs\": 3, \"Master\": 4, \"Rare\": 5}\n",
    "\n",
    "for dataset in data:\n",
    "    # extract titles\n",
    "    dataset['Title'] = dataset.Name.str.extract(' ([A-Za-z]+)\\.', expand=False)\n",
    "    # replace titles with a more common title or as Rare\n",
    "    dataset['Title'] = dataset['Title'].replace(['Lady', 'Countess','Capt', 'Col','Don', 'Dr',\\\n",
    "                                            'Major', 'Rev', 'Sir', 'Jonkheer', 'Dona'], 'Rare')\n",
    "    dataset['Title'] = dataset['Title'].replace('Mlle', 'Miss')\n",
    "    dataset['Title'] = dataset['Title'].replace('Ms', 'Miss')\n",
    "    dataset['Title'] = dataset['Title'].replace('Mme', 'Mrs')\n",
    "    # convert titles into numbers\n",
    "    dataset['Title'] = dataset['Title'].map(titles)\n",
    "    # filling NaN with 0, to get safe\n",
    "    dataset['Title'] = dataset['Title'].fillna(0)\n",
    "train_dataset = train_dataset.drop(['Name'], axis=1)\n",
    "test_dataset = test_dataset.drop(['Name'], axis=1)"
   ]
  },
  {
   "cell_type": "code",
   "execution_count": 865,
   "id": "086bd798",
   "metadata": {},
   "outputs": [],
   "source": [
    "Titanic_Full_data = Titanic.drop(columns=['Name', 'PassengerId'], axis=1).copy()"
   ]
  },
  {
   "cell_type": "code",
   "execution_count": 866,
   "id": "d7224ef8",
   "metadata": {},
   "outputs": [
    {
     "data": {
      "text/html": [
       "<div>\n",
       "<style scoped>\n",
       "    .dataframe tbody tr th:only-of-type {\n",
       "        vertical-align: middle;\n",
       "    }\n",
       "\n",
       "    .dataframe tbody tr th {\n",
       "        vertical-align: top;\n",
       "    }\n",
       "\n",
       "    .dataframe thead th {\n",
       "        text-align: right;\n",
       "    }\n",
       "</style>\n",
       "<table border=\"1\" class=\"dataframe\">\n",
       "  <thead>\n",
       "    <tr style=\"text-align: right;\">\n",
       "      <th></th>\n",
       "      <th>Survived</th>\n",
       "      <th>Pclass</th>\n",
       "      <th>Sex</th>\n",
       "      <th>Age</th>\n",
       "      <th>SibSp</th>\n",
       "      <th>Parch</th>\n",
       "      <th>Ticket</th>\n",
       "      <th>Fare</th>\n",
       "      <th>Cabin</th>\n",
       "      <th>Embarked</th>\n",
       "      <th>Title</th>\n",
       "    </tr>\n",
       "  </thead>\n",
       "  <tbody>\n",
       "    <tr>\n",
       "      <th>0</th>\n",
       "      <td>0</td>\n",
       "      <td>3</td>\n",
       "      <td>male</td>\n",
       "      <td>22.0</td>\n",
       "      <td>1</td>\n",
       "      <td>0</td>\n",
       "      <td>A/5 21171</td>\n",
       "      <td>7.2500</td>\n",
       "      <td>NaN</td>\n",
       "      <td>S</td>\n",
       "      <td>1.0</td>\n",
       "    </tr>\n",
       "    <tr>\n",
       "      <th>1</th>\n",
       "      <td>1</td>\n",
       "      <td>1</td>\n",
       "      <td>female</td>\n",
       "      <td>38.0</td>\n",
       "      <td>1</td>\n",
       "      <td>0</td>\n",
       "      <td>PC 17599</td>\n",
       "      <td>71.2833</td>\n",
       "      <td>C85</td>\n",
       "      <td>C</td>\n",
       "      <td>3.0</td>\n",
       "    </tr>\n",
       "    <tr>\n",
       "      <th>2</th>\n",
       "      <td>1</td>\n",
       "      <td>3</td>\n",
       "      <td>female</td>\n",
       "      <td>26.0</td>\n",
       "      <td>0</td>\n",
       "      <td>0</td>\n",
       "      <td>STON/O2. 3101282</td>\n",
       "      <td>7.9250</td>\n",
       "      <td>NaN</td>\n",
       "      <td>S</td>\n",
       "      <td>1.0</td>\n",
       "    </tr>\n",
       "    <tr>\n",
       "      <th>3</th>\n",
       "      <td>1</td>\n",
       "      <td>1</td>\n",
       "      <td>female</td>\n",
       "      <td>35.0</td>\n",
       "      <td>1</td>\n",
       "      <td>0</td>\n",
       "      <td>113803</td>\n",
       "      <td>53.1000</td>\n",
       "      <td>C123</td>\n",
       "      <td>S</td>\n",
       "      <td>1.0</td>\n",
       "    </tr>\n",
       "    <tr>\n",
       "      <th>4</th>\n",
       "      <td>0</td>\n",
       "      <td>3</td>\n",
       "      <td>male</td>\n",
       "      <td>35.0</td>\n",
       "      <td>0</td>\n",
       "      <td>0</td>\n",
       "      <td>373450</td>\n",
       "      <td>8.0500</td>\n",
       "      <td>NaN</td>\n",
       "      <td>S</td>\n",
       "      <td>3.0</td>\n",
       "    </tr>\n",
       "    <tr>\n",
       "      <th>...</th>\n",
       "      <td>...</td>\n",
       "      <td>...</td>\n",
       "      <td>...</td>\n",
       "      <td>...</td>\n",
       "      <td>...</td>\n",
       "      <td>...</td>\n",
       "      <td>...</td>\n",
       "      <td>...</td>\n",
       "      <td>...</td>\n",
       "      <td>...</td>\n",
       "      <td>...</td>\n",
       "    </tr>\n",
       "    <tr>\n",
       "      <th>1304</th>\n",
       "      <td>0</td>\n",
       "      <td>3</td>\n",
       "      <td>male</td>\n",
       "      <td>NaN</td>\n",
       "      <td>0</td>\n",
       "      <td>0</td>\n",
       "      <td>A.5. 3236</td>\n",
       "      <td>8.0500</td>\n",
       "      <td>NaN</td>\n",
       "      <td>S</td>\n",
       "      <td>NaN</td>\n",
       "    </tr>\n",
       "    <tr>\n",
       "      <th>1305</th>\n",
       "      <td>1</td>\n",
       "      <td>1</td>\n",
       "      <td>female</td>\n",
       "      <td>39.0</td>\n",
       "      <td>0</td>\n",
       "      <td>0</td>\n",
       "      <td>PC 17758</td>\n",
       "      <td>108.9000</td>\n",
       "      <td>C105</td>\n",
       "      <td>C</td>\n",
       "      <td>NaN</td>\n",
       "    </tr>\n",
       "    <tr>\n",
       "      <th>1306</th>\n",
       "      <td>0</td>\n",
       "      <td>3</td>\n",
       "      <td>male</td>\n",
       "      <td>38.5</td>\n",
       "      <td>0</td>\n",
       "      <td>0</td>\n",
       "      <td>SOTON/O.Q. 3101262</td>\n",
       "      <td>7.2500</td>\n",
       "      <td>NaN</td>\n",
       "      <td>S</td>\n",
       "      <td>NaN</td>\n",
       "    </tr>\n",
       "    <tr>\n",
       "      <th>1307</th>\n",
       "      <td>1</td>\n",
       "      <td>3</td>\n",
       "      <td>male</td>\n",
       "      <td>NaN</td>\n",
       "      <td>0</td>\n",
       "      <td>0</td>\n",
       "      <td>359309</td>\n",
       "      <td>8.0500</td>\n",
       "      <td>NaN</td>\n",
       "      <td>S</td>\n",
       "      <td>NaN</td>\n",
       "    </tr>\n",
       "    <tr>\n",
       "      <th>1308</th>\n",
       "      <td>1</td>\n",
       "      <td>3</td>\n",
       "      <td>male</td>\n",
       "      <td>NaN</td>\n",
       "      <td>1</td>\n",
       "      <td>1</td>\n",
       "      <td>2668</td>\n",
       "      <td>22.3583</td>\n",
       "      <td>NaN</td>\n",
       "      <td>C</td>\n",
       "      <td>NaN</td>\n",
       "    </tr>\n",
       "  </tbody>\n",
       "</table>\n",
       "<p>1309 rows × 11 columns</p>\n",
       "</div>"
      ],
      "text/plain": [
       "      Survived  Pclass     Sex   Age  SibSp  Parch              Ticket  \\\n",
       "0            0       3    male  22.0      1      0           A/5 21171   \n",
       "1            1       1  female  38.0      1      0            PC 17599   \n",
       "2            1       3  female  26.0      0      0    STON/O2. 3101282   \n",
       "3            1       1  female  35.0      1      0              113803   \n",
       "4            0       3    male  35.0      0      0              373450   \n",
       "...        ...     ...     ...   ...    ...    ...                 ...   \n",
       "1304         0       3    male   NaN      0      0           A.5. 3236   \n",
       "1305         1       1  female  39.0      0      0            PC 17758   \n",
       "1306         0       3    male  38.5      0      0  SOTON/O.Q. 3101262   \n",
       "1307         1       3    male   NaN      0      0              359309   \n",
       "1308         1       3    male   NaN      1      1                2668   \n",
       "\n",
       "          Fare Cabin Embarked  Title  \n",
       "0       7.2500   NaN        S    1.0  \n",
       "1      71.2833   C85        C    3.0  \n",
       "2       7.9250   NaN        S    1.0  \n",
       "3      53.1000  C123        S    1.0  \n",
       "4       8.0500   NaN        S    3.0  \n",
       "...        ...   ...      ...    ...  \n",
       "1304    8.0500   NaN        S    NaN  \n",
       "1305  108.9000  C105        C    NaN  \n",
       "1306    7.2500   NaN        S    NaN  \n",
       "1307    8.0500   NaN        S    NaN  \n",
       "1308   22.3583   NaN        C    NaN  \n",
       "\n",
       "[1309 rows x 11 columns]"
      ]
     },
     "execution_count": 866,
     "metadata": {},
     "output_type": "execute_result"
    }
   ],
   "source": [
    "Titanic_Full_data['Title'] = dataset['Title']\n",
    "Titanic_Full_data"
   ]
  },
  {
   "cell_type": "markdown",
   "id": "eec3ca2b",
   "metadata": {},
   "source": [
    "# Statistical Information of the data"
   ]
  },
  {
   "cell_type": "code",
   "execution_count": 867,
   "id": "dd56cc11",
   "metadata": {},
   "outputs": [
    {
     "data": {
      "text/html": [
       "<div>\n",
       "<style scoped>\n",
       "    .dataframe tbody tr th:only-of-type {\n",
       "        vertical-align: middle;\n",
       "    }\n",
       "\n",
       "    .dataframe tbody tr th {\n",
       "        vertical-align: top;\n",
       "    }\n",
       "\n",
       "    .dataframe thead th {\n",
       "        text-align: right;\n",
       "    }\n",
       "</style>\n",
       "<table border=\"1\" class=\"dataframe\">\n",
       "  <thead>\n",
       "    <tr style=\"text-align: right;\">\n",
       "      <th></th>\n",
       "      <th>Survived</th>\n",
       "      <th>Pclass</th>\n",
       "      <th>Age</th>\n",
       "      <th>SibSp</th>\n",
       "      <th>Parch</th>\n",
       "      <th>Fare</th>\n",
       "      <th>Title</th>\n",
       "    </tr>\n",
       "  </thead>\n",
       "  <tbody>\n",
       "    <tr>\n",
       "      <th>count</th>\n",
       "      <td>1309.000000</td>\n",
       "      <td>1309.000000</td>\n",
       "      <td>1046.000000</td>\n",
       "      <td>1309.000000</td>\n",
       "      <td>1309.000000</td>\n",
       "      <td>1308.000000</td>\n",
       "      <td>418.000000</td>\n",
       "    </tr>\n",
       "    <tr>\n",
       "      <th>mean</th>\n",
       "      <td>0.385791</td>\n",
       "      <td>2.294882</td>\n",
       "      <td>29.881138</td>\n",
       "      <td>0.498854</td>\n",
       "      <td>0.385027</td>\n",
       "      <td>33.295479</td>\n",
       "      <td>1.741627</td>\n",
       "    </tr>\n",
       "    <tr>\n",
       "      <th>std</th>\n",
       "      <td>0.486968</td>\n",
       "      <td>0.837836</td>\n",
       "      <td>14.413493</td>\n",
       "      <td>1.041658</td>\n",
       "      <td>0.865560</td>\n",
       "      <td>51.758668</td>\n",
       "      <td>1.006091</td>\n",
       "    </tr>\n",
       "    <tr>\n",
       "      <th>min</th>\n",
       "      <td>0.000000</td>\n",
       "      <td>1.000000</td>\n",
       "      <td>0.170000</td>\n",
       "      <td>0.000000</td>\n",
       "      <td>0.000000</td>\n",
       "      <td>0.000000</td>\n",
       "      <td>1.000000</td>\n",
       "    </tr>\n",
       "    <tr>\n",
       "      <th>25%</th>\n",
       "      <td>0.000000</td>\n",
       "      <td>2.000000</td>\n",
       "      <td>21.000000</td>\n",
       "      <td>0.000000</td>\n",
       "      <td>0.000000</td>\n",
       "      <td>7.895800</td>\n",
       "      <td>1.000000</td>\n",
       "    </tr>\n",
       "    <tr>\n",
       "      <th>50%</th>\n",
       "      <td>0.000000</td>\n",
       "      <td>3.000000</td>\n",
       "      <td>28.000000</td>\n",
       "      <td>0.000000</td>\n",
       "      <td>0.000000</td>\n",
       "      <td>14.454200</td>\n",
       "      <td>1.000000</td>\n",
       "    </tr>\n",
       "    <tr>\n",
       "      <th>75%</th>\n",
       "      <td>1.000000</td>\n",
       "      <td>3.000000</td>\n",
       "      <td>39.000000</td>\n",
       "      <td>1.000000</td>\n",
       "      <td>0.000000</td>\n",
       "      <td>31.275000</td>\n",
       "      <td>2.000000</td>\n",
       "    </tr>\n",
       "    <tr>\n",
       "      <th>max</th>\n",
       "      <td>1.000000</td>\n",
       "      <td>3.000000</td>\n",
       "      <td>80.000000</td>\n",
       "      <td>8.000000</td>\n",
       "      <td>9.000000</td>\n",
       "      <td>512.329200</td>\n",
       "      <td>5.000000</td>\n",
       "    </tr>\n",
       "  </tbody>\n",
       "</table>\n",
       "</div>"
      ],
      "text/plain": [
       "          Survived       Pclass          Age        SibSp        Parch  \\\n",
       "count  1309.000000  1309.000000  1046.000000  1309.000000  1309.000000   \n",
       "mean      0.385791     2.294882    29.881138     0.498854     0.385027   \n",
       "std       0.486968     0.837836    14.413493     1.041658     0.865560   \n",
       "min       0.000000     1.000000     0.170000     0.000000     0.000000   \n",
       "25%       0.000000     2.000000    21.000000     0.000000     0.000000   \n",
       "50%       0.000000     3.000000    28.000000     0.000000     0.000000   \n",
       "75%       1.000000     3.000000    39.000000     1.000000     0.000000   \n",
       "max       1.000000     3.000000    80.000000     8.000000     9.000000   \n",
       "\n",
       "              Fare       Title  \n",
       "count  1308.000000  418.000000  \n",
       "mean     33.295479    1.741627  \n",
       "std      51.758668    1.006091  \n",
       "min       0.000000    1.000000  \n",
       "25%       7.895800    1.000000  \n",
       "50%      14.454200    1.000000  \n",
       "75%      31.275000    2.000000  \n",
       "max     512.329200    5.000000  "
      ]
     },
     "execution_count": 867,
     "metadata": {},
     "output_type": "execute_result"
    }
   ],
   "source": [
    "Titanic_Full_data.describe()"
   ]
  },
  {
   "cell_type": "markdown",
   "id": "21976c8d",
   "metadata": {},
   "source": [
    "* Yikes, only 38% **Survived**! 😭 That's close enough to 40%, so accuracy will be a reasonable metric to evaluate our model.\n",
    "* The mean **Fare** was £32.20, which does not seem so expensive (but it was probably a lot of money back then).\n",
    "* The mean **Age** was less than 30 years old."
   ]
  },
  {
   "cell_type": "code",
   "execution_count": 868,
   "id": "ddc1c5b1",
   "metadata": {},
   "outputs": [
    {
     "data": {
      "text/html": [
       "<div>\n",
       "<style scoped>\n",
       "    .dataframe tbody tr th:only-of-type {\n",
       "        vertical-align: middle;\n",
       "    }\n",
       "\n",
       "    .dataframe tbody tr th {\n",
       "        vertical-align: top;\n",
       "    }\n",
       "\n",
       "    .dataframe thead th {\n",
       "        text-align: right;\n",
       "    }\n",
       "</style>\n",
       "<table border=\"1\" class=\"dataframe\">\n",
       "  <thead>\n",
       "    <tr style=\"text-align: right;\">\n",
       "      <th></th>\n",
       "      <th>Survived</th>\n",
       "      <th>Pclass</th>\n",
       "      <th>Sex</th>\n",
       "      <th>Age</th>\n",
       "      <th>SibSp</th>\n",
       "      <th>Parch</th>\n",
       "      <th>Ticket</th>\n",
       "      <th>Fare</th>\n",
       "      <th>Cabin</th>\n",
       "      <th>Embarked</th>\n",
       "      <th>Title</th>\n",
       "      <th>Class</th>\n",
       "      <th>Alive</th>\n",
       "    </tr>\n",
       "  </thead>\n",
       "  <tbody>\n",
       "    <tr>\n",
       "      <th>0</th>\n",
       "      <td>0</td>\n",
       "      <td>3</td>\n",
       "      <td>male</td>\n",
       "      <td>22.0</td>\n",
       "      <td>1</td>\n",
       "      <td>0</td>\n",
       "      <td>A/5 21171</td>\n",
       "      <td>7.2500</td>\n",
       "      <td>NaN</td>\n",
       "      <td>S</td>\n",
       "      <td>1.0</td>\n",
       "      <td>Third</td>\n",
       "      <td>No</td>\n",
       "    </tr>\n",
       "    <tr>\n",
       "      <th>1</th>\n",
       "      <td>1</td>\n",
       "      <td>1</td>\n",
       "      <td>female</td>\n",
       "      <td>38.0</td>\n",
       "      <td>1</td>\n",
       "      <td>0</td>\n",
       "      <td>PC 17599</td>\n",
       "      <td>71.2833</td>\n",
       "      <td>C85</td>\n",
       "      <td>C</td>\n",
       "      <td>3.0</td>\n",
       "      <td>First</td>\n",
       "      <td>Yes</td>\n",
       "    </tr>\n",
       "    <tr>\n",
       "      <th>2</th>\n",
       "      <td>1</td>\n",
       "      <td>3</td>\n",
       "      <td>female</td>\n",
       "      <td>26.0</td>\n",
       "      <td>0</td>\n",
       "      <td>0</td>\n",
       "      <td>STON/O2. 3101282</td>\n",
       "      <td>7.9250</td>\n",
       "      <td>NaN</td>\n",
       "      <td>S</td>\n",
       "      <td>1.0</td>\n",
       "      <td>Third</td>\n",
       "      <td>Yes</td>\n",
       "    </tr>\n",
       "    <tr>\n",
       "      <th>3</th>\n",
       "      <td>1</td>\n",
       "      <td>1</td>\n",
       "      <td>female</td>\n",
       "      <td>35.0</td>\n",
       "      <td>1</td>\n",
       "      <td>0</td>\n",
       "      <td>113803</td>\n",
       "      <td>53.1000</td>\n",
       "      <td>C123</td>\n",
       "      <td>S</td>\n",
       "      <td>1.0</td>\n",
       "      <td>First</td>\n",
       "      <td>Yes</td>\n",
       "    </tr>\n",
       "    <tr>\n",
       "      <th>4</th>\n",
       "      <td>0</td>\n",
       "      <td>3</td>\n",
       "      <td>male</td>\n",
       "      <td>35.0</td>\n",
       "      <td>0</td>\n",
       "      <td>0</td>\n",
       "      <td>373450</td>\n",
       "      <td>8.0500</td>\n",
       "      <td>NaN</td>\n",
       "      <td>S</td>\n",
       "      <td>3.0</td>\n",
       "      <td>Third</td>\n",
       "      <td>No</td>\n",
       "    </tr>\n",
       "  </tbody>\n",
       "</table>\n",
       "</div>"
      ],
      "text/plain": [
       "   Survived  Pclass     Sex   Age  SibSp  Parch            Ticket     Fare  \\\n",
       "0         0       3    male  22.0      1      0         A/5 21171   7.2500   \n",
       "1         1       1  female  38.0      1      0          PC 17599  71.2833   \n",
       "2         1       3  female  26.0      0      0  STON/O2. 3101282   7.9250   \n",
       "3         1       1  female  35.0      1      0            113803  53.1000   \n",
       "4         0       3    male  35.0      0      0            373450   8.0500   \n",
       "\n",
       "  Cabin Embarked  Title  Class Alive  \n",
       "0   NaN        S    1.0  Third    No  \n",
       "1   C85        C    3.0  First   Yes  \n",
       "2   NaN        S    1.0  Third   Yes  \n",
       "3  C123        S    1.0  First   Yes  \n",
       "4   NaN        S    3.0  Third    No  "
      ]
     },
     "execution_count": 868,
     "metadata": {},
     "output_type": "execute_result"
    }
   ],
   "source": [
    "Titanic_Full_data['Class'] =Titanic_Full_data['Pclass']\n",
    "Titanic_Full_data.loc[Titanic_Full_data['Class']==3, 'Class'] = 'Third'\n",
    "Titanic_Full_data.loc[Titanic_Full_data['Class']==2, 'Class'] = 'Second'\n",
    "Titanic_Full_data.loc[Titanic_Full_data['Class']==1, 'Class'] = 'First'\n",
    "\n",
    "\n",
    "# Titanic_Full_data['Embarked_Town'] = Titanic_Full_data['Embarked']\n",
    "\n",
    "# Titanic_Full_data.loc[Titanic_Full_data['Embarked_Town']=='S', 'Embarked_Town'] ='Southampton'\n",
    "# Titanic_Full_data.loc[Titanic_Full_data['Embarked_Town']=='C', 'Embarked_Town'] ='Cherbourg'\n",
    "# Titanic_Full_data.loc[Titanic_Full_data['Embarked_Town']=='Q', 'Embarked_Town'] ='Queenstown'\n",
    "\n",
    "\n",
    "Titanic_Full_data['Alive'] = Titanic_Full_data['Survived']\n",
    "Titanic_Full_data.loc[Titanic_Full_data['Alive']==1, 'Alive'] ='Yes'\n",
    "Titanic_Full_data.loc[Titanic_Full_data['Alive']==0, 'Alive'] ='No'\n",
    "\n",
    "Titanic_Full_data.head(5)"
   ]
  },
  {
   "cell_type": "markdown",
   "id": "c38d19d5",
   "metadata": {},
   "source": [
    "## Detail look at what Titanic_Full_data  is missing"
   ]
  },
  {
   "cell_type": "code",
   "execution_count": 869,
   "id": "e6563857",
   "metadata": {},
   "outputs": [
    {
     "data": {
      "text/html": [
       "<div>\n",
       "<style scoped>\n",
       "    .dataframe tbody tr th:only-of-type {\n",
       "        vertical-align: middle;\n",
       "    }\n",
       "\n",
       "    .dataframe tbody tr th {\n",
       "        vertical-align: top;\n",
       "    }\n",
       "\n",
       "    .dataframe thead th {\n",
       "        text-align: right;\n",
       "    }\n",
       "</style>\n",
       "<table border=\"1\" class=\"dataframe\">\n",
       "  <thead>\n",
       "    <tr style=\"text-align: right;\">\n",
       "      <th></th>\n",
       "      <th>Total</th>\n",
       "      <th>%</th>\n",
       "    </tr>\n",
       "  </thead>\n",
       "  <tbody>\n",
       "    <tr>\n",
       "      <th>Cabin</th>\n",
       "      <td>1014.0</td>\n",
       "      <td>113.8</td>\n",
       "    </tr>\n",
       "    <tr>\n",
       "      <th>Title</th>\n",
       "      <td>891.0</td>\n",
       "      <td>100.0</td>\n",
       "    </tr>\n",
       "    <tr>\n",
       "      <th>Age</th>\n",
       "      <td>263.0</td>\n",
       "      <td>29.5</td>\n",
       "    </tr>\n",
       "    <tr>\n",
       "      <th>Embarked</th>\n",
       "      <td>2.0</td>\n",
       "      <td>0.2</td>\n",
       "    </tr>\n",
       "    <tr>\n",
       "      <th>Fare</th>\n",
       "      <td>1.0</td>\n",
       "      <td>0.1</td>\n",
       "    </tr>\n",
       "    <tr>\n",
       "      <th>Survived</th>\n",
       "      <td>0.0</td>\n",
       "      <td>0.0</td>\n",
       "    </tr>\n",
       "    <tr>\n",
       "      <th>Pclass</th>\n",
       "      <td>0.0</td>\n",
       "      <td>0.0</td>\n",
       "    </tr>\n",
       "    <tr>\n",
       "      <th>Sex</th>\n",
       "      <td>0.0</td>\n",
       "      <td>0.0</td>\n",
       "    </tr>\n",
       "    <tr>\n",
       "      <th>SibSp</th>\n",
       "      <td>0.0</td>\n",
       "      <td>0.0</td>\n",
       "    </tr>\n",
       "    <tr>\n",
       "      <th>Parch</th>\n",
       "      <td>0.0</td>\n",
       "      <td>0.0</td>\n",
       "    </tr>\n",
       "  </tbody>\n",
       "</table>\n",
       "</div>"
      ],
      "text/plain": [
       "           Total      %\n",
       "Cabin     1014.0  113.8\n",
       "Title      891.0  100.0\n",
       "Age        263.0   29.5\n",
       "Embarked     2.0    0.2\n",
       "Fare         1.0    0.1\n",
       "Survived     0.0    0.0\n",
       "Pclass       0.0    0.0\n",
       "Sex          0.0    0.0\n",
       "SibSp        0.0    0.0\n",
       "Parch        0.0    0.0"
      ]
     },
     "execution_count": 869,
     "metadata": {},
     "output_type": "execute_result"
    }
   ],
   "source": [
    "total = Titanic_Full_data.isnull().sum().sort_values(ascending=False)\n",
    "percent_1 = Titanic_Full_data.isnull().sum()/train_dataset.isnull().count()*100\n",
    "percent_2 = (round(percent_1, 1)).sort_values(ascending=False)\n",
    "missing_data = pd.concat([total, percent_2], axis=1, keys=['Total', '%'])\n",
    "missing_data.head(10)"
   ]
  },
  {
   "cell_type": "markdown",
   "id": "f05f2079",
   "metadata": {},
   "source": [
    "## Data Visualization"
   ]
  },
  {
   "cell_type": "markdown",
   "id": "873c4df5",
   "metadata": {},
   "source": [
    "### --> Survived"
   ]
  },
  {
   "cell_type": "markdown",
   "id": "c07e0a44",
   "metadata": {},
   "source": [
    "We can now visualize the number of the survivors"
   ]
  },
  {
   "cell_type": "code",
   "execution_count": 870,
   "id": "bff45be1",
   "metadata": {},
   "outputs": [
    {
     "data": {
      "text/plain": [
       "<AxesSubplot:xlabel='Alive', ylabel='count'>"
      ]
     },
     "execution_count": 870,
     "metadata": {},
     "output_type": "execute_result"
    },
    {
     "data": {
      "image/png": "[encoded data removed]",
      "text/plain": [
       "<Figure size 432x288 with 1 Axes>"
      ]
     },
     "metadata": {
      "needs_background": "light"
     },
     "output_type": "display_data"
    }
   ],
   "source": [
    "sns.countplot(Titanic_Full_data['Alive'])"
   ]
  },
  {
   "cell_type": "markdown",
   "id": "6d50319f",
   "metadata": {},
   "source": [
    "### --> Title, Sex, Pclass, SibSp, Parch, Embarked"
   ]
  },
  {
   "cell_type": "markdown",
   "id": "ae60eaaa",
   "metadata": {},
   "source": [
    "Visualizing the count of survivor for columns 'age', sex', 'class', 'sibsp', 'parch', 'embarked'"
   ]
  },
  {
   "cell_type": "code",
   "execution_count": 871,
   "id": "8b5394b0",
   "metadata": {},
   "outputs": [
    {
     "data": {
      "image/png": "[encoded data removed]",
      "text/plain": [
       "<Figure size 691.2x460.8 with 6 Axes>"
      ]
     },
     "metadata": {
      "needs_background": "light"
     },
     "output_type": "display_data"
    }
   ],
   "source": [
    "columns = [ 'Title','Sex', 'Class', 'SibSp', 'Parch', 'Embarked']\n",
    "\n",
    "num_of_rows = 2 \n",
    "num_of_columns = 3\n",
    "\n",
    "#The subplot grid and figure size of each graph\n",
    "\n",
    "fig, axs = plt.subplots(num_of_rows,num_of_columns, figsize = (num_of_columns*3.2,num_of_rows*3.2 ))\n",
    "\n",
    "for row in range(0,num_of_rows):\n",
    "    for column in range(0,num_of_columns):\n",
    "        i = row*num_of_columns + column #Index to go through the number of columns\n",
    "        ax = axs[row][column] # Show where to position each subplots\n",
    "        sns.countplot(Titanic_Full_data[columns[i]], hue =Titanic_Full_data['Survived'] , ax=ax)\n",
    "        ax.set_title(columns[i])\n",
    "        ax.legend(title = 'survived', loc = 'upper right')\n",
    "        \n",
    "plt.tight_layout()"
   ]
  },
  {
   "cell_type": "markdown",
   "id": "fc87784e",
   "metadata": {},
   "source": [
    "### --> Embarked, Pclass and Sex"
   ]
  },
  {
   "cell_type": "code",
   "execution_count": 872,
   "id": "6a5affb9",
   "metadata": {},
   "outputs": [
    {
     "data": {
      "image/png": "[encoded data removed]",
      "text/plain": [
       "<Figure size 577.075x864 with 3 Axes>"
      ]
     },
     "metadata": {
      "needs_background": "light"
     },
     "output_type": "display_data"
    }
   ],
   "source": [
    "FacetGrid = sns.FacetGrid(Titanic_Full_data, row='Embarked', size=4, aspect=1.6)\n",
    "FacetGrid.map(sns.pointplot, 'Pclass', 'Survived', 'Sex', palette=None,  order=None, hue_order=None )\n",
    "FacetGrid.add_legend()\n",
    "plt.show()"
   ]
  },
  {
   "cell_type": "markdown",
   "id": "ddd322c5",
   "metadata": {},
   "source": [
    "### --> Relatives ( SibSp and Parch)\n",
    "high probabilty of survival with 1 to 3 realitves, but a lower one if you had less than 1 or more than 3 (except for some cases with 6 relatives)"
   ]
  },
  {
   "cell_type": "code",
   "execution_count": 873,
   "id": "439ba984",
   "metadata": {},
   "outputs": [
    {
     "data": {
      "image/png": "[encoded data removed]",
      "text/plain": [
       "<Figure size 720x360 with 1 Axes>"
      ]
     },
     "metadata": {
      "needs_background": "light"
     },
     "output_type": "display_data"
    }
   ],
   "source": [
    "Titanic_Full_data['relatives'] = Titanic_Full_data['SibSp'] + Titanic_Full_data['Parch']\n",
    "Titanic_Full_data.loc[Titanic_Full_data['relatives'] > 0, 'not_alone'] = 0\n",
    "Titanic_Full_data.loc[Titanic_Full_data['relatives'] == 0, 'not_alone'] = 1\n",
    "Titanic_Full_data['not_alone'] = Titanic_Full_data['not_alone'].astype(int)\n",
    "Titanic_Full_data['not_alone'].value_counts()\n",
    "\n",
    "axes = sns.factorplot('relatives','Survived', \n",
    "                      data=Titanic_Full_data, aspect = 2, color = 'green')"
   ]
  },
  {
   "cell_type": "markdown",
   "id": "00a36163",
   "metadata": {},
   "source": [
    "# Survival Rate by sex"
   ]
  },
  {
   "cell_type": "code",
   "execution_count": 874,
   "id": "c10cdad9",
   "metadata": {},
   "outputs": [
    {
     "data": {
      "text/html": [
       "<div>\n",
       "<style scoped>\n",
       "    .dataframe tbody tr th:only-of-type {\n",
       "        vertical-align: middle;\n",
       "    }\n",
       "\n",
       "    .dataframe tbody tr th {\n",
       "        vertical-align: top;\n",
       "    }\n",
       "\n",
       "    .dataframe thead th {\n",
       "        text-align: right;\n",
       "    }\n",
       "</style>\n",
       "<table border=\"1\" class=\"dataframe\">\n",
       "  <thead>\n",
       "    <tr style=\"text-align: right;\">\n",
       "      <th></th>\n",
       "      <th>Survived</th>\n",
       "    </tr>\n",
       "    <tr>\n",
       "      <th>Sex</th>\n",
       "      <th></th>\n",
       "    </tr>\n",
       "  </thead>\n",
       "  <tbody>\n",
       "    <tr>\n",
       "      <th>female</th>\n",
       "      <td>0.61588</td>\n",
       "    </tr>\n",
       "    <tr>\n",
       "      <th>male</th>\n",
       "      <td>0.25860</td>\n",
       "    </tr>\n",
       "  </tbody>\n",
       "</table>\n",
       "</div>"
      ],
      "text/plain": [
       "        Survived\n",
       "Sex             \n",
       "female   0.61588\n",
       "male     0.25860"
      ]
     },
     "execution_count": 874,
     "metadata": {},
     "output_type": "execute_result"
    }
   ],
   "source": [
    "Titanic_Full_data.groupby('Sex')[['Survived']].mean()"
   ]
  },
  {
   "cell_type": "markdown",
   "id": "8f111b1a",
   "metadata": {},
   "source": [
    "# Survival rate by Sex and Class"
   ]
  },
  {
   "cell_type": "code",
   "execution_count": 875,
   "id": "7ad08fc3",
   "metadata": {},
   "outputs": [
    {
     "data": {
      "text/html": [
       "<div>\n",
       "<style scoped>\n",
       "    .dataframe tbody tr th:only-of-type {\n",
       "        vertical-align: middle;\n",
       "    }\n",
       "\n",
       "    .dataframe tbody tr th {\n",
       "        vertical-align: top;\n",
       "    }\n",
       "\n",
       "    .dataframe thead th {\n",
       "        text-align: right;\n",
       "    }\n",
       "</style>\n",
       "<table border=\"1\" class=\"dataframe\">\n",
       "  <thead>\n",
       "    <tr style=\"text-align: right;\">\n",
       "      <th>Class</th>\n",
       "      <th>First</th>\n",
       "      <th>Second</th>\n",
       "      <th>Third</th>\n",
       "    </tr>\n",
       "    <tr>\n",
       "      <th>Sex</th>\n",
       "      <th></th>\n",
       "      <th></th>\n",
       "      <th></th>\n",
       "    </tr>\n",
       "  </thead>\n",
       "  <tbody>\n",
       "    <tr>\n",
       "      <th>female</th>\n",
       "      <td>0.756944</td>\n",
       "      <td>0.764151</td>\n",
       "      <td>0.449074</td>\n",
       "    </tr>\n",
       "    <tr>\n",
       "      <th>male</th>\n",
       "      <td>0.351955</td>\n",
       "      <td>0.269006</td>\n",
       "      <td>0.221095</td>\n",
       "    </tr>\n",
       "  </tbody>\n",
       "</table>\n",
       "</div>"
      ],
      "text/plain": [
       "Class      First    Second     Third\n",
       "Sex                                 \n",
       "female  0.756944  0.764151  0.449074\n",
       "male    0.351955  0.269006  0.221095"
      ]
     },
     "execution_count": 875,
     "metadata": {},
     "output_type": "execute_result"
    }
   ],
   "source": [
    "Titanic_Full_data.pivot_table('Survived', index = 'Sex', columns ='Class')"
   ]
  },
  {
   "cell_type": "markdown",
   "id": "3c5378f9",
   "metadata": {},
   "source": [
    "## Survival rate by sex and class Virtually"
   ]
  },
  {
   "cell_type": "code",
   "execution_count": 876,
   "id": "d7d2c8f2",
   "metadata": {},
   "outputs": [
    {
     "data": {
      "text/plain": [
       "<AxesSubplot:xlabel='Sex'>"
      ]
     },
     "execution_count": 876,
     "metadata": {},
     "output_type": "execute_result"
    },
    {
     "data": {
      "image/png": "[encoded data removed]",
      "text/plain": [
       "<Figure size 432x288 with 1 Axes>"
      ]
     },
     "metadata": {
      "needs_background": "light"
     },
     "output_type": "display_data"
    }
   ],
   "source": [
    "Titanic_Full_data.pivot_table('Survived', index = 'Sex', columns ='Class').plot()"
   ]
  },
  {
   "cell_type": "markdown",
   "id": "3cb079b8",
   "metadata": {},
   "source": [
    "# Survivor rate by Sex, Age, and Class"
   ]
  },
  {
   "cell_type": "code",
   "execution_count": 877,
   "id": "19e0d156",
   "metadata": {},
   "outputs": [
    {
     "data": {
      "text/html": [
       "<div>\n",
       "<style scoped>\n",
       "    .dataframe tbody tr th:only-of-type {\n",
       "        vertical-align: middle;\n",
       "    }\n",
       "\n",
       "    .dataframe tbody tr th {\n",
       "        vertical-align: top;\n",
       "    }\n",
       "\n",
       "    .dataframe thead th {\n",
       "        text-align: right;\n",
       "    }\n",
       "</style>\n",
       "<table border=\"1\" class=\"dataframe\">\n",
       "  <thead>\n",
       "    <tr style=\"text-align: right;\">\n",
       "      <th></th>\n",
       "      <th>Class</th>\n",
       "      <th>First</th>\n",
       "      <th>Second</th>\n",
       "      <th>Third</th>\n",
       "    </tr>\n",
       "    <tr>\n",
       "      <th>Sex</th>\n",
       "      <th>Age</th>\n",
       "      <th></th>\n",
       "      <th></th>\n",
       "      <th></th>\n",
       "    </tr>\n",
       "  </thead>\n",
       "  <tbody>\n",
       "    <tr>\n",
       "      <th rowspan=\"2\" valign=\"top\">female</th>\n",
       "      <th>(0, 18]</th>\n",
       "      <td>0.769231</td>\n",
       "      <td>0.666667</td>\n",
       "      <td>0.482759</td>\n",
       "    </tr>\n",
       "    <tr>\n",
       "      <th>(18, 80]</th>\n",
       "      <td>0.741667</td>\n",
       "      <td>0.780488</td>\n",
       "      <td>0.414894</td>\n",
       "    </tr>\n",
       "    <tr>\n",
       "      <th rowspan=\"2\" valign=\"top\">male</th>\n",
       "      <th>(0, 18]</th>\n",
       "      <td>0.500000</td>\n",
       "      <td>0.571429</td>\n",
       "      <td>0.277778</td>\n",
       "    </tr>\n",
       "    <tr>\n",
       "      <th>(18, 80]</th>\n",
       "      <td>0.363636</td>\n",
       "      <td>0.218978</td>\n",
       "      <td>0.202166</td>\n",
       "    </tr>\n",
       "  </tbody>\n",
       "</table>\n",
       "</div>"
      ],
      "text/plain": [
       "Class               First    Second     Third\n",
       "Sex    Age                                   \n",
       "female (0, 18]   0.769231  0.666667  0.482759\n",
       "       (18, 80]  0.741667  0.780488  0.414894\n",
       "male   (0, 18]   0.500000  0.571429  0.277778\n",
       "       (18, 80]  0.363636  0.218978  0.202166"
      ]
     },
     "execution_count": 877,
     "metadata": {},
     "output_type": "execute_result"
    }
   ],
   "source": [
    "age = pd.cut(Titanic_Full_data['Age'], [0,18,80])\n",
    "Titanic_Full_data.pivot_table('Survived',['Sex', age], 'Class')"
   ]
  },
  {
   "cell_type": "markdown",
   "id": "0ade3884",
   "metadata": {},
   "source": [
    "## Plot the prices paid by each class"
   ]
  },
  {
   "cell_type": "code",
   "execution_count": 878,
   "id": "5bb47247",
   "metadata": {},
   "outputs": [
    {
     "data": {
      "image/png": "[encoded data removed]",
      "text/plain": [
       "<Figure size 432x288 with 1 Axes>"
      ]
     },
     "metadata": {
      "needs_background": "light"
     },
     "output_type": "display_data"
    }
   ],
   "source": [
    "plt.scatter(Titanic_Full_data['Fare'], Titanic_Full_data['Pclass'], color ='blue', label='Amount Paid')\n",
    "plt.ylabel('Class')\n",
    "plt.xlabel('Price/Fare')\n",
    "plt.title('Price of Each Class')\n",
    "plt.legend()\n",
    "plt.show()"
   ]
  },
  {
   "cell_type": "code",
   "execution_count": 879,
   "id": "cee7a164",
   "metadata": {},
   "outputs": [
    {
     "data": {
      "text/html": [
       "<div>\n",
       "<style scoped>\n",
       "    .dataframe tbody tr th:only-of-type {\n",
       "        vertical-align: middle;\n",
       "    }\n",
       "\n",
       "    .dataframe tbody tr th {\n",
       "        vertical-align: top;\n",
       "    }\n",
       "\n",
       "    .dataframe thead th {\n",
       "        text-align: right;\n",
       "    }\n",
       "</style>\n",
       "<table border=\"1\" class=\"dataframe\">\n",
       "  <thead>\n",
       "    <tr style=\"text-align: right;\">\n",
       "      <th></th>\n",
       "      <th>Survived</th>\n",
       "      <th>Pclass</th>\n",
       "      <th>Sex</th>\n",
       "      <th>Age</th>\n",
       "      <th>SibSp</th>\n",
       "      <th>Parch</th>\n",
       "      <th>Ticket</th>\n",
       "      <th>Fare</th>\n",
       "      <th>Cabin</th>\n",
       "      <th>Embarked</th>\n",
       "    </tr>\n",
       "  </thead>\n",
       "  <tbody>\n",
       "    <tr>\n",
       "      <th>0</th>\n",
       "      <td>0</td>\n",
       "      <td>3</td>\n",
       "      <td>male</td>\n",
       "      <td>22.0</td>\n",
       "      <td>1</td>\n",
       "      <td>0</td>\n",
       "      <td>A/5 21171</td>\n",
       "      <td>7.2500</td>\n",
       "      <td>NaN</td>\n",
       "      <td>S</td>\n",
       "    </tr>\n",
       "    <tr>\n",
       "      <th>1</th>\n",
       "      <td>1</td>\n",
       "      <td>1</td>\n",
       "      <td>female</td>\n",
       "      <td>38.0</td>\n",
       "      <td>1</td>\n",
       "      <td>0</td>\n",
       "      <td>PC 17599</td>\n",
       "      <td>71.2833</td>\n",
       "      <td>C85</td>\n",
       "      <td>C</td>\n",
       "    </tr>\n",
       "    <tr>\n",
       "      <th>2</th>\n",
       "      <td>1</td>\n",
       "      <td>3</td>\n",
       "      <td>female</td>\n",
       "      <td>26.0</td>\n",
       "      <td>0</td>\n",
       "      <td>0</td>\n",
       "      <td>STON/O2. 3101282</td>\n",
       "      <td>7.9250</td>\n",
       "      <td>NaN</td>\n",
       "      <td>S</td>\n",
       "    </tr>\n",
       "    <tr>\n",
       "      <th>3</th>\n",
       "      <td>1</td>\n",
       "      <td>1</td>\n",
       "      <td>female</td>\n",
       "      <td>35.0</td>\n",
       "      <td>1</td>\n",
       "      <td>0</td>\n",
       "      <td>113803</td>\n",
       "      <td>53.1000</td>\n",
       "      <td>C123</td>\n",
       "      <td>S</td>\n",
       "    </tr>\n",
       "    <tr>\n",
       "      <th>4</th>\n",
       "      <td>0</td>\n",
       "      <td>3</td>\n",
       "      <td>male</td>\n",
       "      <td>35.0</td>\n",
       "      <td>0</td>\n",
       "      <td>0</td>\n",
       "      <td>373450</td>\n",
       "      <td>8.0500</td>\n",
       "      <td>NaN</td>\n",
       "      <td>S</td>\n",
       "    </tr>\n",
       "    <tr>\n",
       "      <th>...</th>\n",
       "      <td>...</td>\n",
       "      <td>...</td>\n",
       "      <td>...</td>\n",
       "      <td>...</td>\n",
       "      <td>...</td>\n",
       "      <td>...</td>\n",
       "      <td>...</td>\n",
       "      <td>...</td>\n",
       "      <td>...</td>\n",
       "      <td>...</td>\n",
       "    </tr>\n",
       "    <tr>\n",
       "      <th>1304</th>\n",
       "      <td>0</td>\n",
       "      <td>3</td>\n",
       "      <td>male</td>\n",
       "      <td>NaN</td>\n",
       "      <td>0</td>\n",
       "      <td>0</td>\n",
       "      <td>A.5. 3236</td>\n",
       "      <td>8.0500</td>\n",
       "      <td>NaN</td>\n",
       "      <td>S</td>\n",
       "    </tr>\n",
       "    <tr>\n",
       "      <th>1305</th>\n",
       "      <td>1</td>\n",
       "      <td>1</td>\n",
       "      <td>female</td>\n",
       "      <td>39.0</td>\n",
       "      <td>0</td>\n",
       "      <td>0</td>\n",
       "      <td>PC 17758</td>\n",
       "      <td>108.9000</td>\n",
       "      <td>C105</td>\n",
       "      <td>C</td>\n",
       "    </tr>\n",
       "    <tr>\n",
       "      <th>1306</th>\n",
       "      <td>0</td>\n",
       "      <td>3</td>\n",
       "      <td>male</td>\n",
       "      <td>38.5</td>\n",
       "      <td>0</td>\n",
       "      <td>0</td>\n",
       "      <td>SOTON/O.Q. 3101262</td>\n",
       "      <td>7.2500</td>\n",
       "      <td>NaN</td>\n",
       "      <td>S</td>\n",
       "    </tr>\n",
       "    <tr>\n",
       "      <th>1307</th>\n",
       "      <td>1</td>\n",
       "      <td>3</td>\n",
       "      <td>male</td>\n",
       "      <td>NaN</td>\n",
       "      <td>0</td>\n",
       "      <td>0</td>\n",
       "      <td>359309</td>\n",
       "      <td>8.0500</td>\n",
       "      <td>NaN</td>\n",
       "      <td>S</td>\n",
       "    </tr>\n",
       "    <tr>\n",
       "      <th>1308</th>\n",
       "      <td>1</td>\n",
       "      <td>3</td>\n",
       "      <td>male</td>\n",
       "      <td>NaN</td>\n",
       "      <td>1</td>\n",
       "      <td>1</td>\n",
       "      <td>2668</td>\n",
       "      <td>22.3583</td>\n",
       "      <td>NaN</td>\n",
       "      <td>C</td>\n",
       "    </tr>\n",
       "  </tbody>\n",
       "</table>\n",
       "<p>1309 rows × 10 columns</p>\n",
       "</div>"
      ],
      "text/plain": [
       "      Survived  Pclass     Sex   Age  SibSp  Parch              Ticket  \\\n",
       "0            0       3    male  22.0      1      0           A/5 21171   \n",
       "1            1       1  female  38.0      1      0            PC 17599   \n",
       "2            1       3  female  26.0      0      0    STON/O2. 3101282   \n",
       "3            1       1  female  35.0      1      0              113803   \n",
       "4            0       3    male  35.0      0      0              373450   \n",
       "...        ...     ...     ...   ...    ...    ...                 ...   \n",
       "1304         0       3    male   NaN      0      0           A.5. 3236   \n",
       "1305         1       1  female  39.0      0      0            PC 17758   \n",
       "1306         0       3    male  38.5      0      0  SOTON/O.Q. 3101262   \n",
       "1307         1       3    male   NaN      0      0              359309   \n",
       "1308         1       3    male   NaN      1      1                2668   \n",
       "\n",
       "          Fare Cabin Embarked  \n",
       "0       7.2500   NaN        S  \n",
       "1      71.2833   C85        C  \n",
       "2       7.9250   NaN        S  \n",
       "3      53.1000  C123        S  \n",
       "4       8.0500   NaN        S  \n",
       "...        ...   ...      ...  \n",
       "1304    8.0500   NaN        S  \n",
       "1305  108.9000  C105        C  \n",
       "1306    7.2500   NaN        S  \n",
       "1307    8.0500   NaN        S  \n",
       "1308   22.3583   NaN        C  \n",
       "\n",
       "[1309 rows x 10 columns]"
      ]
     },
     "execution_count": 879,
     "metadata": {},
     "output_type": "execute_result"
    }
   ],
   "source": [
    "Titanic_dataset=Titanic_Full_data.drop(columns = ['Title','Class','Alive', 'relatives','not_alone']).copy()\n",
    "Titanic_dataset"
   ]
  },
  {
   "cell_type": "markdown",
   "id": "acf2e4bb",
   "metadata": {},
   "source": [
    "# Setting Features and Target"
   ]
  },
  {
   "cell_type": "code",
   "execution_count": 880,
   "id": "fe91c011",
   "metadata": {},
   "outputs": [],
   "source": [
    "from sklearn.model_selection import train_test_split\n",
    "\n",
    "Features = train_dataset.drop(['Survived'], axis = 1)\n",
    "Target = train_dataset['Survived']"
   ]
  },
  {
   "cell_type": "markdown",
   "id": "69d6959d",
   "metadata": {},
   "source": [
    "# Data Imputing / Cleaning"
   ]
  },
  {
   "cell_type": "markdown",
   "id": "5b385c8c",
   "metadata": {},
   "source": [
    "### Now let's build our preprocessing pipelines"
   ]
  },
  {
   "cell_type": "markdown",
   "id": "c28cba9b",
   "metadata": {},
   "source": [
    "#### Pipeline for numerical attributes:"
   ]
  },
  {
   "cell_type": "code",
   "execution_count": 881,
   "id": "158ee4fb",
   "metadata": {},
   "outputs": [],
   "source": [
    "from sklearn.pipeline import Pipeline\n",
    "from sklearn.impute import SimpleImputer\n",
    "from sklearn.preprocessing import StandardScaler\n",
    "\n",
    "num_pipeline = Pipeline([\n",
    "        (\"imputer\", SimpleImputer(strategy=\"median\")),\n",
    "        (\"scaler\", StandardScaler())\n",
    "    ])"
   ]
  },
  {
   "cell_type": "markdown",
   "id": "6f0801cd",
   "metadata": {},
   "source": [
    "### Pipeline for the categorical attributes:"
   ]
  },
  {
   "cell_type": "code",
   "execution_count": 882,
   "id": "734cf1b5",
   "metadata": {},
   "outputs": [],
   "source": [
    "from sklearn.preprocessing import OneHotEncoder"
   ]
  },
  {
   "cell_type": "code",
   "execution_count": 883,
   "id": "6b6f5336",
   "metadata": {},
   "outputs": [],
   "source": [
    "cat_pipeline = Pipeline([\n",
    "        (\"imputer\", SimpleImputer(strategy=\"most_frequent\")),\n",
    "        (\"cat_encoder\", OneHotEncoder(sparse=False)),\n",
    "    ])"
   ]
  },
  {
   "cell_type": "markdown",
   "id": "8181b671",
   "metadata": {},
   "source": [
    "#### Joining numerical and categorical pipelines"
   ]
  },
  {
   "cell_type": "code",
   "execution_count": 884,
   "id": "863f5f02",
   "metadata": {},
   "outputs": [],
   "source": [
    "from sklearn.compose import ColumnTransformer\n",
    "\n",
    "num_attribs = [\"Age\", \"SibSp\", \"Parch\", \"Fare\"]\n",
    "cat_attribs = [\"Pclass\", \"Sex\", \"Embarked\"]\n",
    "\n",
    "preprocess_pipeline = ColumnTransformer([\n",
    "        (\"num\", num_pipeline, num_attribs),\n",
    "        (\"cat\", cat_pipeline, cat_attribs),\n",
    "    ])\n"
   ]
  },
  {
   "cell_type": "code",
   "execution_count": 885,
   "id": "63d3938d",
   "metadata": {},
   "outputs": [
    {
     "data": {
      "text/plain": [
       "array([[-0.56573646,  0.43279337, -0.47367361, ...,  0.        ,\n",
       "         0.        ,  1.        ],\n",
       "       [ 0.66386103,  0.43279337, -0.47367361, ...,  1.        ,\n",
       "         0.        ,  0.        ],\n",
       "       [-0.25833709, -0.4745452 , -0.47367361, ...,  0.        ,\n",
       "         0.        ,  1.        ],\n",
       "       ...,\n",
       "       [-0.1046374 ,  0.43279337,  2.00893337, ...,  0.        ,\n",
       "         0.        ,  1.        ],\n",
       "       [-0.25833709, -0.4745452 , -0.47367361, ...,  1.        ,\n",
       "         0.        ,  0.        ],\n",
       "       [ 0.20276197, -0.4745452 , -0.47367361, ...,  0.        ,\n",
       "         1.        ,  0.        ]])"
      ]
     },
     "execution_count": 885,
     "metadata": {},
     "output_type": "execute_result"
    }
   ],
   "source": [
    "Attributes = preprocess_pipeline.fit_transform(\n",
    "    Features[num_attribs + cat_attribs])\n",
    "Attributes"
   ]
  },
  {
   "cell_type": "markdown",
   "id": "2c6d900b",
   "metadata": {},
   "source": [
    "# Splitting the Data into Training and Test Data"
   ]
  },
  {
   "cell_type": "code",
   "execution_count": 886,
   "id": "a5a91b96",
   "metadata": {},
   "outputs": [],
   "source": [
    "X_train, X_test, y_train, y_test = train_test_split(Attributes, Target, test_size=0.25, random_state=42)\n"
   ]
  },
  {
   "cell_type": "markdown",
   "id": "20a8ec53",
   "metadata": {},
   "source": [
    "# Machine Learning Model"
   ]
  },
  {
   "cell_type": "code",
   "execution_count": 887,
   "id": "2928a55a",
   "metadata": {},
   "outputs": [],
   "source": [
    "def all_models(X_train, y_train):\n",
    "    #Use Logistic Regression\n",
    "    log = LogisticRegression(random_state = 0)\n",
    "    log.fit(X_train, y_train)\n",
    "    \n",
    "    #Use KNeighbors\n",
    "    knn = KNeighborsClassifier(n_neighbors = 5, metric = 'minkowski', p =2)\n",
    "    knn.fit(X_train, y_train)\n",
    "    \n",
    "    #Use SVC (Linear Kernel)\n",
    "    svc_lin = SVC(kernel = 'linear', random_state =0)\n",
    "    svc_lin.fit(X_train, y_train)\n",
    "    \n",
    "    #Use SVC (RBF Kernel)\n",
    "    svc_rbf = SVC(kernel = 'rbf', random_state =0)\n",
    "    svc_rbf.fit(X_train, y_train)\n",
    "    \n",
    "\n",
    "    \n",
    "    #Use GaussianNB\n",
    "    gauss = GaussianNB()\n",
    "    gauss.fit(X_train, y_train)\n",
    "    \n",
    "    #Use Decision Tree\n",
    "    tree = DecisionTreeClassifier(criterion = 'entropy', random_state =0)\n",
    "    tree.fit(X_train, y_train)\n",
    "    \n",
    "    #Use RandomForestClassifier\n",
    "    forest = RandomForestClassifier(n_estimators=10, criterion = 'entropy', random_state =0)\n",
    "    forest.fit(X_train, y_train)\n",
    "    \n",
    "    #Use LGBMClassifier\n",
    "    lgb = LGBMClassifier()\n",
    "    lgb.fit(X_train, y_train)\n",
    "    \n",
    "    #USe XGBClassifier\n",
    "   \n",
    "    #xgb = XGBClassifier()\n",
    "    #xgb.fit(X_train, y_train)\n",
    "    \n",
    "    #Use SGDClassifier\n",
    "    sgd = SGDClassifier()\n",
    "    sgd.fit(X_train,y_train)\n",
    "    \n",
    "    #Use AdaBoostClassifier\n",
    "    ada = AdaBoostClassifier()\n",
    "    ada.fit(X_train, y_train)\n",
    "    \n",
    "    #Print the Accuracy for each model\n",
    "    print('[0]Logistic Regression Training Accuracy: ', log.score(X_train, y_train))\n",
    "    print('[1]K Neighbors Regression Training Accuracy: ', knn.score(X_train, y_train))\n",
    "    print('[2]SVC Linear Training Accuracy: ', svc_lin.score(X_train, y_train))\n",
    "    print('[3]SVC RBF Training Accuracy: ', svc_rbf.score(X_train, y_train))\n",
    "    print('[4]GaussianNB Training Accuracy: ', gauss.score(X_train, y_train))\n",
    "    print('[5]Decision Tree Training Accuracy: ', tree.score(X_train, y_train))\n",
    "    print('[6]Random Forest Training Accuracy: ', forest.score(X_train, y_train))\n",
    "    print('[7]LGBMClassifier Training Accuracy: ', lgb.score(X_train, y_train))\n",
    "    #print('[8]XGBClassifier Training Accuracy: ', xgb.score(X_train, y_train))\n",
    "    print('[8]SGDClassifier Training Accuracy: ', sgd.score(X_train, y_train))\n",
    "    print('[9]AdaBoostClassifier Training Accuracy: ', ada.score(X_train, y_train))\n",
    "    \n",
    "\n",
    "    \n",
    "    return log,knn,svc_lin,svc_rbf,gauss,tree,forest,lgb,sgd,ada\n",
    "    "
   ]
  },
  {
   "cell_type": "code",
   "execution_count": 888,
   "id": "dd5cb00c",
   "metadata": {},
   "outputs": [
    {
     "name": "stdout",
     "output_type": "stream",
     "text": [
      "[0]Logistic Regression Training Accuracy:  0.8068862275449101\n",
      "[1]K Neighbors Regression Training Accuracy:  0.8607784431137725\n",
      "[2]SVC Linear Training Accuracy:  0.7874251497005988\n",
      "[3]SVC RBF Training Accuracy:  0.8383233532934131\n",
      "[4]GaussianNB Training Accuracy:  0.7919161676646707\n",
      "[5]Decision Tree Training Accuracy:  0.9805389221556886\n",
      "[6]Random Forest Training Accuracy:  0.9640718562874252\n",
      "[7]LGBMClassifier Training Accuracy:  0.9505988023952096\n",
      "[8]SGDClassifier Training Accuracy:  0.8143712574850299\n",
      "[9]AdaBoostClassifier Training Accuracy:  0.8368263473053892\n"
     ]
    }
   ],
   "source": [
    "models = all_models(X_train, y_train)"
   ]
  },
  {
   "cell_type": "code",
   "execution_count": 889,
   "id": "e5e37358",
   "metadata": {},
   "outputs": [],
   "source": [
    "df=pd.DataFrame(columns=['Name', 'train_accuracy', 'test_accuracy','Precision','Recall','Specificity'])"
   ]
  },
  {
   "cell_type": "code",
   "execution_count": 890,
   "id": "8af20e75",
   "metadata": {},
   "outputs": [],
   "source": [
    "def train_test_evaluate_model(model,name):\n",
    "    global df\n",
    "    print(\"------------------------------------------------------------------------------------\")\n",
    "    print(name)\n",
    "    model.fit(X_train,y_train)\n",
    "    print(\"Train score :\")\n",
    "    train_score=model.score(X_train,y_train)\n",
    "    print(train_score)\n",
    "    predict= model.predict(X_test)\n",
    "    print(\"Test score :\")\n",
    "    test_score=accuracy_score(y_test,predict)\n",
    "    print(test_score)\n",
    "    print(\"Confusion Matrix :\")\n",
    "    print(confusion_matrix(y_test,predict))\n",
    "    print(\"Classification Report :\")\n",
    "    print(classification_report(y_test,predict))\n",
    "#     print(scores)\n",
    "\n",
    "    \n",
    "    confusion__matrix = pd.crosstab(y_test,predict , rownames=['Actual'], colnames=['Predicted'])\n",
    "    sns.heatmap(confusion__matrix, annot=True)\n",
    "    plt.show()\n",
    "    cm=confusion_matrix(y_test,predict)\n",
    "    tp = cm[1,1]\n",
    "    tn = cm[0,0]\n",
    "    fp = cm[0,1]\n",
    "    fn = cm[1,0]\n",
    "    print(\"Accuracy : \",(tp+tn)/(tp+tn+fp+fn))\n",
    "    print(\"Precision : \",(tp)/(tp+fp))\n",
    "    print(\"Recall/TPR/Sensitivity : \",(tp)/(tp+fn))\n",
    "    print(\"Specificity/TNR : \",(tn)/(tn+fp))\n",
    "    print(\"------------------------------------------------------------------------------------\")\n",
    "    new_row = {'Name':name, 'train_accuracy': train_score , 'test_accuracy': test_score ,'Precision': (tp)/(tp+fp) \\\n",
    "               ,'Recall': (tp)/(tp+fn) ,'Specificity': (tn)/(tn+fp) }\n",
    "    #append row to the dataframe\n",
    "    df = df.append(new_row, ignore_index=True)"
   ]
  },
  {
   "cell_type": "markdown",
   "id": "5e575493",
   "metadata": {},
   "source": [
    "# LogisticRegression"
   ]
  },
  {
   "cell_type": "code",
   "execution_count": 891,
   "id": "ec917d60",
   "metadata": {},
   "outputs": [
    {
     "name": "stdout",
     "output_type": "stream",
     "text": [
      "------------------------------------------------------------------------------------\n",
      "LogisticRegression\n",
      "Train score :\n",
      "0.8068862275449101\n",
      "Test score :\n",
      "0.7982062780269058\n",
      "Confusion Matrix :\n",
      "[[115  19]\n",
      " [ 26  63]]\n",
      "Classification Report :\n",
      "              precision    recall  f1-score   support\n",
      "\n",
      "           0       0.82      0.86      0.84       134\n",
      "           1       0.77      0.71      0.74        89\n",
      "\n",
      "    accuracy                           0.80       223\n",
      "   macro avg       0.79      0.78      0.79       223\n",
      "weighted avg       0.80      0.80      0.80       223\n",
      "\n"
     ]
    },
    {
     "data": {
      "image/png": "[encoded data removed]",
      "text/plain": [
       "<Figure size 432x288 with 2 Axes>"
      ]
     },
     "metadata": {
      "needs_background": "light"
     },
     "output_type": "display_data"
    },
    {
     "name": "stdout",
     "output_type": "stream",
     "text": [
      "Accuracy :  0.7982062780269058\n",
      "Precision :  0.7682926829268293\n",
      "Recall/TPR/Sensitivity :  0.7078651685393258\n",
      "Specificity/TNR :  0.8582089552238806\n",
      "------------------------------------------------------------------------------------\n"
     ]
    }
   ],
   "source": [
    "train_test_evaluate_model(LogisticRegression(solver='lbfgs', max_iter=1200),\"LogisticRegression\")"
   ]
  },
  {
   "cell_type": "markdown",
   "id": "241bde3c",
   "metadata": {},
   "source": [
    "# DecisionTreeClassifier"
   ]
  },
  {
   "cell_type": "code",
   "execution_count": 892,
   "id": "95667bdb",
   "metadata": {},
   "outputs": [
    {
     "name": "stdout",
     "output_type": "stream",
     "text": [
      "------------------------------------------------------------------------------------\n",
      "DecisionTreeClassifier\n",
      "Train score :\n",
      "0.9805389221556886\n",
      "Test score :\n",
      "0.7174887892376681\n",
      "Confusion Matrix :\n",
      "[[104  30]\n",
      " [ 33  56]]\n",
      "Classification Report :\n",
      "              precision    recall  f1-score   support\n",
      "\n",
      "           0       0.76      0.78      0.77       134\n",
      "           1       0.65      0.63      0.64        89\n",
      "\n",
      "    accuracy                           0.72       223\n",
      "   macro avg       0.71      0.70      0.70       223\n",
      "weighted avg       0.72      0.72      0.72       223\n",
      "\n"
     ]
    },
    {
     "data": {
      "image/png": "[encoded data removed]",
      "text/plain": [
       "<Figure size 432x288 with 2 Axes>"
      ]
     },
     "metadata": {
      "needs_background": "light"
     },
     "output_type": "display_data"
    },
    {
     "name": "stdout",
     "output_type": "stream",
     "text": [
      "Accuracy :  0.7174887892376681\n",
      "Precision :  0.6511627906976745\n",
      "Recall/TPR/Sensitivity :  0.6292134831460674\n",
      "Specificity/TNR :  0.7761194029850746\n",
      "------------------------------------------------------------------------------------\n"
     ]
    }
   ],
   "source": [
    "from sklearn.tree import DecisionTreeClassifier\n",
    "train_test_evaluate_model(DecisionTreeClassifier(criterion='entropy'),\"DecisionTreeClassifier\")"
   ]
  },
  {
   "cell_type": "markdown",
   "id": "3b6b20c8",
   "metadata": {},
   "source": [
    "# RandomForestClassifier"
   ]
  },
  {
   "cell_type": "code",
   "execution_count": 893,
   "id": "c22d8804",
   "metadata": {},
   "outputs": [
    {
     "name": "stdout",
     "output_type": "stream",
     "text": [
      "------------------------------------------------------------------------------------\n",
      "RandomForestClassifier\n",
      "Train score :\n",
      "0.9491017964071856\n",
      "Test score :\n",
      "0.7847533632286996\n",
      "Confusion Matrix :\n",
      "[[109  25]\n",
      " [ 23  66]]\n",
      "Classification Report :\n",
      "              precision    recall  f1-score   support\n",
      "\n",
      "           0       0.83      0.81      0.82       134\n",
      "           1       0.73      0.74      0.73        89\n",
      "\n",
      "    accuracy                           0.78       223\n",
      "   macro avg       0.78      0.78      0.78       223\n",
      "weighted avg       0.79      0.78      0.79       223\n",
      "\n"
     ]
    },
    {
     "data": {
      "image/png": "[encoded data removed]",
      "text/plain": [
       "<Figure size 432x288 with 2 Axes>"
      ]
     },
     "metadata": {
      "needs_background": "light"
     },
     "output_type": "display_data"
    },
    {
     "name": "stdout",
     "output_type": "stream",
     "text": [
      "Accuracy :  0.7847533632286996\n",
      "Precision :  0.7252747252747253\n",
      "Recall/TPR/Sensitivity :  0.7415730337078652\n",
      "Specificity/TNR :  0.8134328358208955\n",
      "------------------------------------------------------------------------------------\n"
     ]
    }
   ],
   "source": [
    "from sklearn.ensemble import RandomForestClassifier\n",
    "train_test_evaluate_model(RandomForestClassifier(n_estimators=5),\"RandomForestClassifier\")"
   ]
  },
  {
   "cell_type": "markdown",
   "id": "9c9b226a",
   "metadata": {},
   "source": [
    "# KNeighborsClassifier"
   ]
  },
  {
   "cell_type": "code",
   "execution_count": 894,
   "id": "75db5b75",
   "metadata": {
    "scrolled": false
   },
   "outputs": [
    {
     "name": "stdout",
     "output_type": "stream",
     "text": [
      "------------------------------------------------------------------------------------\n",
      "KNeighborsClassifier\n",
      "Train score :\n",
      "0.8607784431137725\n",
      "Test score :\n",
      "0.8116591928251121\n",
      "Confusion Matrix :\n",
      "[[117  17]\n",
      " [ 25  64]]\n",
      "Classification Report :\n",
      "              precision    recall  f1-score   support\n",
      "\n",
      "           0       0.82      0.87      0.85       134\n",
      "           1       0.79      0.72      0.75        89\n",
      "\n",
      "    accuracy                           0.81       223\n",
      "   macro avg       0.81      0.80      0.80       223\n",
      "weighted avg       0.81      0.81      0.81       223\n",
      "\n"
     ]
    },
    {
     "data": {
      "image/png": "[encoded data removed]",
      "text/plain": [
       "<Figure size 432x288 with 2 Axes>"
      ]
     },
     "metadata": {
      "needs_background": "light"
     },
     "output_type": "display_data"
    },
    {
     "name": "stdout",
     "output_type": "stream",
     "text": [
      "Accuracy :  0.8116591928251121\n",
      "Precision :  0.7901234567901234\n",
      "Recall/TPR/Sensitivity :  0.7191011235955056\n",
      "Specificity/TNR :  0.8731343283582089\n",
      "------------------------------------------------------------------------------------\n"
     ]
    }
   ],
   "source": [
    "from sklearn.neighbors import KNeighborsClassifier\n",
    "train_test_evaluate_model(KNeighborsClassifier(n_neighbors=5),\"KNeighborsClassifier\")"
   ]
  },
  {
   "cell_type": "markdown",
   "id": "c88fbc9b",
   "metadata": {},
   "source": [
    "# GaussianNB"
   ]
  },
  {
   "cell_type": "code",
   "execution_count": 895,
   "id": "dc7971e2",
   "metadata": {},
   "outputs": [
    {
     "name": "stdout",
     "output_type": "stream",
     "text": [
      "------------------------------------------------------------------------------------\n",
      "GaussianNB\n",
      "Train score :\n",
      "0.7919161676646707\n",
      "Test score :\n",
      "0.7847533632286996\n",
      "Confusion Matrix :\n",
      "[[106  28]\n",
      " [ 20  69]]\n",
      "Classification Report :\n",
      "              precision    recall  f1-score   support\n",
      "\n",
      "           0       0.84      0.79      0.82       134\n",
      "           1       0.71      0.78      0.74        89\n",
      "\n",
      "    accuracy                           0.78       223\n",
      "   macro avg       0.78      0.78      0.78       223\n",
      "weighted avg       0.79      0.78      0.79       223\n",
      "\n"
     ]
    },
    {
     "data": {
      "image/png": "[encoded data removed]",
      "text/plain": [
       "<Figure size 432x288 with 2 Axes>"
      ]
     },
     "metadata": {
      "needs_background": "light"
     },
     "output_type": "display_data"
    },
    {
     "name": "stdout",
     "output_type": "stream",
     "text": [
      "Accuracy :  0.7847533632286996\n",
      "Precision :  0.711340206185567\n",
      "Recall/TPR/Sensitivity :  0.7752808988764045\n",
      "Specificity/TNR :  0.7910447761194029\n",
      "------------------------------------------------------------------------------------\n"
     ]
    }
   ],
   "source": [
    "from sklearn.naive_bayes import GaussianNB\n",
    "train_test_evaluate_model(GaussianNB(),\"GaussianNB\")"
   ]
  },
  {
   "cell_type": "markdown",
   "id": "8b164a50",
   "metadata": {},
   "source": [
    "# SVC"
   ]
  },
  {
   "cell_type": "code",
   "execution_count": 896,
   "id": "e630ad3d",
   "metadata": {},
   "outputs": [
    {
     "name": "stdout",
     "output_type": "stream",
     "text": [
      "------------------------------------------------------------------------------------\n",
      "SVC\n",
      "Train score :\n",
      "0.8383233532934131\n",
      "Test score :\n",
      "0.820627802690583\n",
      "Confusion Matrix :\n",
      "[[118  16]\n",
      " [ 24  65]]\n",
      "Classification Report :\n",
      "              precision    recall  f1-score   support\n",
      "\n",
      "           0       0.83      0.88      0.86       134\n",
      "           1       0.80      0.73      0.76        89\n",
      "\n",
      "    accuracy                           0.82       223\n",
      "   macro avg       0.82      0.81      0.81       223\n",
      "weighted avg       0.82      0.82      0.82       223\n",
      "\n"
     ]
    },
    {
     "data": {
      "image/png": "[encoded data removed]",
      "text/plain": [
       "<Figure size 432x288 with 2 Axes>"
      ]
     },
     "metadata": {
      "needs_background": "light"
     },
     "output_type": "display_data"
    },
    {
     "name": "stdout",
     "output_type": "stream",
     "text": [
      "Accuracy :  0.820627802690583\n",
      "Precision :  0.8024691358024691\n",
      "Recall/TPR/Sensitivity :  0.7303370786516854\n",
      "Specificity/TNR :  0.8805970149253731\n",
      "------------------------------------------------------------------------------------\n"
     ]
    }
   ],
   "source": [
    "from sklearn.svm import SVC\n",
    "train_test_evaluate_model(SVC(),\"SVC\")"
   ]
  },
  {
   "cell_type": "markdown",
   "id": "76392a66",
   "metadata": {},
   "source": [
    "# AdaBoostClassifier"
   ]
  },
  {
   "cell_type": "code",
   "execution_count": 897,
   "id": "12dfab5c",
   "metadata": {},
   "outputs": [
    {
     "name": "stdout",
     "output_type": "stream",
     "text": [
      "------------------------------------------------------------------------------------\n",
      "AdaBoostClassifier\n",
      "Train score :\n",
      "0.8368263473053892\n",
      "Test score :\n",
      "0.7892376681614349\n",
      "Confusion Matrix :\n",
      "[[110  24]\n",
      " [ 23  66]]\n",
      "Classification Report :\n",
      "              precision    recall  f1-score   support\n",
      "\n",
      "           0       0.83      0.82      0.82       134\n",
      "           1       0.73      0.74      0.74        89\n",
      "\n",
      "    accuracy                           0.79       223\n",
      "   macro avg       0.78      0.78      0.78       223\n",
      "weighted avg       0.79      0.79      0.79       223\n",
      "\n"
     ]
    },
    {
     "data": {
      "image/png": "[encoded data removed]",
      "text/plain": [
       "<Figure size 432x288 with 2 Axes>"
      ]
     },
     "metadata": {
      "needs_background": "light"
     },
     "output_type": "display_data"
    },
    {
     "name": "stdout",
     "output_type": "stream",
     "text": [
      "Accuracy :  0.7892376681614349\n",
      "Precision :  0.7333333333333333\n",
      "Recall/TPR/Sensitivity :  0.7415730337078652\n",
      "Specificity/TNR :  0.8208955223880597\n",
      "------------------------------------------------------------------------------------\n"
     ]
    }
   ],
   "source": [
    "train_test_evaluate_model(AdaBoostClassifier(),\"AdaBoostClassifier\")"
   ]
  },
  {
   "cell_type": "markdown",
   "id": "229fa089",
   "metadata": {},
   "source": [
    "# SGDClassifier"
   ]
  },
  {
   "cell_type": "code",
   "execution_count": 898,
   "id": "fa46be8d",
   "metadata": {
    "scrolled": false
   },
   "outputs": [
    {
     "name": "stdout",
     "output_type": "stream",
     "text": [
      "------------------------------------------------------------------------------------\n",
      "SGDClassifier\n",
      "Train score :\n",
      "0.7934131736526946\n",
      "Test score :\n",
      "0.7713004484304933\n",
      "Confusion Matrix :\n",
      "[[114  20]\n",
      " [ 31  58]]\n",
      "Classification Report :\n",
      "              precision    recall  f1-score   support\n",
      "\n",
      "           0       0.79      0.85      0.82       134\n",
      "           1       0.74      0.65      0.69        89\n",
      "\n",
      "    accuracy                           0.77       223\n",
      "   macro avg       0.76      0.75      0.76       223\n",
      "weighted avg       0.77      0.77      0.77       223\n",
      "\n"
     ]
    },
    {
     "data": {
      "image/png": "[encoded data removed]",
      "text/plain": [
       "<Figure size 432x288 with 2 Axes>"
      ]
     },
     "metadata": {
      "needs_background": "light"
     },
     "output_type": "display_data"
    },
    {
     "name": "stdout",
     "output_type": "stream",
     "text": [
      "Accuracy :  0.7713004484304933\n",
      "Precision :  0.7435897435897436\n",
      "Recall/TPR/Sensitivity :  0.651685393258427\n",
      "Specificity/TNR :  0.8507462686567164\n",
      "------------------------------------------------------------------------------------\n"
     ]
    }
   ],
   "source": [
    "train_test_evaluate_model(SGDClassifier(),\"SGDClassifier\")"
   ]
  },
  {
   "cell_type": "markdown",
   "id": "e5bca178",
   "metadata": {},
   "source": [
    "# LGBMClassifier"
   ]
  },
  {
   "cell_type": "code",
   "execution_count": 899,
   "id": "680b75ce",
   "metadata": {},
   "outputs": [
    {
     "name": "stdout",
     "output_type": "stream",
     "text": [
      "------------------------------------------------------------------------------------\n",
      "LGBMClassifier\n",
      "Train score :\n",
      "0.9505988023952096\n",
      "Test score :\n",
      "0.8116591928251121\n",
      "Confusion Matrix :\n",
      "[[114  20]\n",
      " [ 22  67]]\n",
      "Classification Report :\n",
      "              precision    recall  f1-score   support\n",
      "\n",
      "           0       0.84      0.85      0.84       134\n",
      "           1       0.77      0.75      0.76        89\n",
      "\n",
      "    accuracy                           0.81       223\n",
      "   macro avg       0.80      0.80      0.80       223\n",
      "weighted avg       0.81      0.81      0.81       223\n",
      "\n"
     ]
    },
    {
     "data": {
      "image/png": "[encoded data removed]",
      "text/plain": [
       "<Figure size 432x288 with 2 Axes>"
      ]
     },
     "metadata": {
      "needs_background": "light"
     },
     "output_type": "display_data"
    },
    {
     "name": "stdout",
     "output_type": "stream",
     "text": [
      "Accuracy :  0.8116591928251121\n",
      "Precision :  0.7701149425287356\n",
      "Recall/TPR/Sensitivity :  0.7528089887640449\n",
      "Specificity/TNR :  0.8507462686567164\n",
      "------------------------------------------------------------------------------------\n"
     ]
    }
   ],
   "source": [
    "train_test_evaluate_model(LGBMClassifier(),\"LGBMClassifier\")"
   ]
  },
  {
   "cell_type": "code",
   "execution_count": 900,
   "id": "e7be0d21",
   "metadata": {},
   "outputs": [
    {
     "data": {
      "text/html": [
       "<div>\n",
       "<style scoped>\n",
       "    .dataframe tbody tr th:only-of-type {\n",
       "        vertical-align: middle;\n",
       "    }\n",
       "\n",
       "    .dataframe tbody tr th {\n",
       "        vertical-align: top;\n",
       "    }\n",
       "\n",
       "    .dataframe thead th {\n",
       "        text-align: right;\n",
       "    }\n",
       "</style>\n",
       "<table border=\"1\" class=\"dataframe\">\n",
       "  <thead>\n",
       "    <tr style=\"text-align: right;\">\n",
       "      <th></th>\n",
       "      <th>Name</th>\n",
       "      <th>train_accuracy</th>\n",
       "      <th>test_accuracy</th>\n",
       "      <th>Precision</th>\n",
       "      <th>Recall</th>\n",
       "      <th>Specificity</th>\n",
       "    </tr>\n",
       "  </thead>\n",
       "  <tbody>\n",
       "    <tr>\n",
       "      <th>0</th>\n",
       "      <td>LogisticRegression</td>\n",
       "      <td>0.806886</td>\n",
       "      <td>0.798206</td>\n",
       "      <td>0.768293</td>\n",
       "      <td>0.707865</td>\n",
       "      <td>0.858209</td>\n",
       "    </tr>\n",
       "    <tr>\n",
       "      <th>1</th>\n",
       "      <td>DecisionTreeClassifier</td>\n",
       "      <td>0.980539</td>\n",
       "      <td>0.717489</td>\n",
       "      <td>0.651163</td>\n",
       "      <td>0.629213</td>\n",
       "      <td>0.776119</td>\n",
       "    </tr>\n",
       "    <tr>\n",
       "      <th>2</th>\n",
       "      <td>RandomForestClassifier</td>\n",
       "      <td>0.949102</td>\n",
       "      <td>0.784753</td>\n",
       "      <td>0.725275</td>\n",
       "      <td>0.741573</td>\n",
       "      <td>0.813433</td>\n",
       "    </tr>\n",
       "    <tr>\n",
       "      <th>3</th>\n",
       "      <td>KNeighborsClassifier</td>\n",
       "      <td>0.860778</td>\n",
       "      <td>0.811659</td>\n",
       "      <td>0.790123</td>\n",
       "      <td>0.719101</td>\n",
       "      <td>0.873134</td>\n",
       "    </tr>\n",
       "    <tr>\n",
       "      <th>4</th>\n",
       "      <td>GaussianNB</td>\n",
       "      <td>0.791916</td>\n",
       "      <td>0.784753</td>\n",
       "      <td>0.711340</td>\n",
       "      <td>0.775281</td>\n",
       "      <td>0.791045</td>\n",
       "    </tr>\n",
       "    <tr>\n",
       "      <th>5</th>\n",
       "      <td>SVC</td>\n",
       "      <td>0.838323</td>\n",
       "      <td>0.820628</td>\n",
       "      <td>0.802469</td>\n",
       "      <td>0.730337</td>\n",
       "      <td>0.880597</td>\n",
       "    </tr>\n",
       "    <tr>\n",
       "      <th>6</th>\n",
       "      <td>AdaBoostClassifier</td>\n",
       "      <td>0.836826</td>\n",
       "      <td>0.789238</td>\n",
       "      <td>0.733333</td>\n",
       "      <td>0.741573</td>\n",
       "      <td>0.820896</td>\n",
       "    </tr>\n",
       "    <tr>\n",
       "      <th>7</th>\n",
       "      <td>SGDClassifier</td>\n",
       "      <td>0.793413</td>\n",
       "      <td>0.771300</td>\n",
       "      <td>0.743590</td>\n",
       "      <td>0.651685</td>\n",
       "      <td>0.850746</td>\n",
       "    </tr>\n",
       "    <tr>\n",
       "      <th>8</th>\n",
       "      <td>LGBMClassifier</td>\n",
       "      <td>0.950599</td>\n",
       "      <td>0.811659</td>\n",
       "      <td>0.770115</td>\n",
       "      <td>0.752809</td>\n",
       "      <td>0.850746</td>\n",
       "    </tr>\n",
       "  </tbody>\n",
       "</table>\n",
       "</div>"
      ],
      "text/plain": [
       "                     Name  train_accuracy  test_accuracy  Precision    Recall  \\\n",
       "0      LogisticRegression        0.806886       0.798206   0.768293  0.707865   \n",
       "1  DecisionTreeClassifier        0.980539       0.717489   0.651163  0.629213   \n",
       "2  RandomForestClassifier        0.949102       0.784753   0.725275  0.741573   \n",
       "3    KNeighborsClassifier        0.860778       0.811659   0.790123  0.719101   \n",
       "4              GaussianNB        0.791916       0.784753   0.711340  0.775281   \n",
       "5                     SVC        0.838323       0.820628   0.802469  0.730337   \n",
       "6      AdaBoostClassifier        0.836826       0.789238   0.733333  0.741573   \n",
       "7           SGDClassifier        0.793413       0.771300   0.743590  0.651685   \n",
       "8          LGBMClassifier        0.950599       0.811659   0.770115  0.752809   \n",
       "\n",
       "   Specificity  \n",
       "0     0.858209  \n",
       "1     0.776119  \n",
       "2     0.813433  \n",
       "3     0.873134  \n",
       "4     0.791045  \n",
       "5     0.880597  \n",
       "6     0.820896  \n",
       "7     0.850746  \n",
       "8     0.850746  "
      ]
     },
     "execution_count": 900,
     "metadata": {},
     "output_type": "execute_result"
    }
   ],
   "source": [
    "df"
   ]
  },
  {
   "cell_type": "markdown",
   "id": "0db0f2d7",
   "metadata": {},
   "source": [
    "### Evaluation Using Cross-Validation"
   ]
  },
  {
   "cell_type": "code",
   "execution_count": 901,
   "id": "8854d5f7",
   "metadata": {},
   "outputs": [],
   "source": [
    "from sklearn.model_selection import cross_val_score"
   ]
  },
  {
   "cell_type": "code",
   "execution_count": 902,
   "id": "388ec090",
   "metadata": {
    "scrolled": false
   },
   "outputs": [
    {
     "name": "stdout",
     "output_type": "stream",
     "text": [
      "LogisticRegression(): 0.799502487562189\n",
      "DecisionTreeClassifier(): 0.7695612844866575\n",
      "RandomForestClassifier(): 0.795070104025328\n",
      "KNeighborsClassifier(): 0.7889416553595658\n",
      "GaussianNB(): 0.784486657620986\n",
      "SVC(): 0.8248982360922659\n",
      "SGDClassifier(): 0.7365897783808232\n",
      "AdaBoostClassifier(): 0.8128674807779286\n",
      "LGBMClassifier(): 0.817412935323383\n"
     ]
    }
   ],
   "source": [
    "score = np.zeros((9,2))\n",
    "mean_score =[]\n",
    "allscores =[]\n",
    "model = [LogisticRegression(),DecisionTreeClassifier(),\n",
    "         RandomForestClassifier(),KNeighborsClassifier(),GaussianNB(),SVC(),\n",
    "         SGDClassifier(),AdaBoostClassifier(),LGBMClassifier()]\n",
    "for i in model:\n",
    "    scores = cross_val_score(i, X_train, y_train, cv=10)\n",
    "    mean = scores.mean()\n",
    "    allscores.append(scores)\n",
    "    mean_score.append(mean)\n",
    "    print('{}: {}'.format(i, scores.mean()))\n",
    "    "
   ]
  },
  {
   "cell_type": "code",
   "execution_count": 903,
   "id": "65df8dc5",
   "metadata": {},
   "outputs": [
    {
     "data": {
      "text/html": [
       "<div>\n",
       "<style scoped>\n",
       "    .dataframe tbody tr th:only-of-type {\n",
       "        vertical-align: middle;\n",
       "    }\n",
       "\n",
       "    .dataframe tbody tr th {\n",
       "        vertical-align: top;\n",
       "    }\n",
       "\n",
       "    .dataframe thead th {\n",
       "        text-align: right;\n",
       "    }\n",
       "</style>\n",
       "<table border=\"1\" class=\"dataframe\">\n",
       "  <thead>\n",
       "    <tr style=\"text-align: right;\">\n",
       "      <th></th>\n",
       "      <th>Models</th>\n",
       "      <th>Cross Validation Scores</th>\n",
       "    </tr>\n",
       "  </thead>\n",
       "  <tbody>\n",
       "    <tr>\n",
       "      <th>0</th>\n",
       "      <td>LogisticRegression()</td>\n",
       "      <td>0.799502</td>\n",
       "    </tr>\n",
       "    <tr>\n",
       "      <th>1</th>\n",
       "      <td>DecisionTreeClassifier()</td>\n",
       "      <td>0.769561</td>\n",
       "    </tr>\n",
       "    <tr>\n",
       "      <th>2</th>\n",
       "      <td>RandomForestClassifier()</td>\n",
       "      <td>0.795070</td>\n",
       "    </tr>\n",
       "    <tr>\n",
       "      <th>3</th>\n",
       "      <td>KNeighborsClassifier()</td>\n",
       "      <td>0.788942</td>\n",
       "    </tr>\n",
       "    <tr>\n",
       "      <th>4</th>\n",
       "      <td>GaussianNB()</td>\n",
       "      <td>0.784487</td>\n",
       "    </tr>\n",
       "    <tr>\n",
       "      <th>5</th>\n",
       "      <td>SVC()</td>\n",
       "      <td>0.824898</td>\n",
       "    </tr>\n",
       "    <tr>\n",
       "      <th>6</th>\n",
       "      <td>SGDClassifier()</td>\n",
       "      <td>0.736590</td>\n",
       "    </tr>\n",
       "    <tr>\n",
       "      <th>7</th>\n",
       "      <td>AdaBoostClassifier()</td>\n",
       "      <td>0.812867</td>\n",
       "    </tr>\n",
       "    <tr>\n",
       "      <th>8</th>\n",
       "      <td>LGBMClassifier()</td>\n",
       "      <td>0.817413</td>\n",
       "    </tr>\n",
       "  </tbody>\n",
       "</table>\n",
       "</div>"
      ],
      "text/plain": [
       "                     Models  Cross Validation Scores\n",
       "0      LogisticRegression()                 0.799502\n",
       "1  DecisionTreeClassifier()                 0.769561\n",
       "2  RandomForestClassifier()                 0.795070\n",
       "3    KNeighborsClassifier()                 0.788942\n",
       "4              GaussianNB()                 0.784487\n",
       "5                     SVC()                 0.824898\n",
       "6           SGDClassifier()                 0.736590\n",
       "7      AdaBoostClassifier()                 0.812867\n",
       "8          LGBMClassifier()                 0.817413"
      ]
     },
     "execution_count": 903,
     "metadata": {},
     "output_type": "execute_result"
    }
   ],
   "source": [
    "np.savetxt('My_Score', score)\n",
    "Score_data = np.loadtxt('My_Score')\n",
    "My_Scores = pd.DataFrame(Score_data, columns = ['Models', 'Cross Validation Scores'])\n",
    "\n",
    "My_Scores['Models'] = model\n",
    "My_Scores['Cross Validation Scores'] = mean_score\n",
    "#My_Scores['Best']= ['','','','','','Best Model','','',\"Second Best\",'']\n",
    "My_Scores\n",
    "\n"
   ]
  },
  {
   "cell_type": "markdown",
   "id": "699eda0d",
   "metadata": {},
   "source": [
    "## Compare Training Accuracy after Cross Validation with Testing Accuracy"
   ]
  },
  {
   "cell_type": "code",
   "execution_count": 904,
   "id": "59069622",
   "metadata": {},
   "outputs": [],
   "source": [
    "Accurracy_Score = np.zeros((9,3))"
   ]
  },
  {
   "cell_type": "code",
   "execution_count": 905,
   "id": "ef3585f7",
   "metadata": {},
   "outputs": [
    {
     "data": {
      "text/html": [
       "<div>\n",
       "<style scoped>\n",
       "    .dataframe tbody tr th:only-of-type {\n",
       "        vertical-align: middle;\n",
       "    }\n",
       "\n",
       "    .dataframe tbody tr th {\n",
       "        vertical-align: top;\n",
       "    }\n",
       "\n",
       "    .dataframe thead th {\n",
       "        text-align: right;\n",
       "    }\n",
       "</style>\n",
       "<table border=\"1\" class=\"dataframe\">\n",
       "  <thead>\n",
       "    <tr style=\"text-align: right;\">\n",
       "      <th></th>\n",
       "      <th>train_accuracy</th>\n",
       "      <th>Cross Validation</th>\n",
       "      <th>test_accuracy</th>\n",
       "      <th>Model</th>\n",
       "    </tr>\n",
       "  </thead>\n",
       "  <tbody>\n",
       "    <tr>\n",
       "      <th>0</th>\n",
       "      <td>0.806886</td>\n",
       "      <td>0.799502</td>\n",
       "      <td>0.798206</td>\n",
       "      <td>LogisticRegression</td>\n",
       "    </tr>\n",
       "    <tr>\n",
       "      <th>1</th>\n",
       "      <td>0.980539</td>\n",
       "      <td>0.769561</td>\n",
       "      <td>0.717489</td>\n",
       "      <td>DecisionTreeClassifier</td>\n",
       "    </tr>\n",
       "    <tr>\n",
       "      <th>2</th>\n",
       "      <td>0.949102</td>\n",
       "      <td>0.795070</td>\n",
       "      <td>0.784753</td>\n",
       "      <td>RandomForestClassifier</td>\n",
       "    </tr>\n",
       "    <tr>\n",
       "      <th>3</th>\n",
       "      <td>0.860778</td>\n",
       "      <td>0.788942</td>\n",
       "      <td>0.811659</td>\n",
       "      <td>KNeighborsClassifier</td>\n",
       "    </tr>\n",
       "    <tr>\n",
       "      <th>4</th>\n",
       "      <td>0.791916</td>\n",
       "      <td>0.784487</td>\n",
       "      <td>0.784753</td>\n",
       "      <td>GaussianNB</td>\n",
       "    </tr>\n",
       "    <tr>\n",
       "      <th>5</th>\n",
       "      <td>0.838323</td>\n",
       "      <td>0.824898</td>\n",
       "      <td>0.820628</td>\n",
       "      <td>SVC</td>\n",
       "    </tr>\n",
       "    <tr>\n",
       "      <th>6</th>\n",
       "      <td>0.836826</td>\n",
       "      <td>0.736590</td>\n",
       "      <td>0.789238</td>\n",
       "      <td>AdaBoostClassifier</td>\n",
       "    </tr>\n",
       "    <tr>\n",
       "      <th>7</th>\n",
       "      <td>0.793413</td>\n",
       "      <td>0.812867</td>\n",
       "      <td>0.771300</td>\n",
       "      <td>SGDClassifier</td>\n",
       "    </tr>\n",
       "    <tr>\n",
       "      <th>8</th>\n",
       "      <td>0.950599</td>\n",
       "      <td>0.817413</td>\n",
       "      <td>0.811659</td>\n",
       "      <td>LGBMClassifier</td>\n",
       "    </tr>\n",
       "  </tbody>\n",
       "</table>\n",
       "</div>"
      ],
      "text/plain": [
       "   train_accuracy  Cross Validation  test_accuracy                   Model\n",
       "0        0.806886          0.799502       0.798206      LogisticRegression\n",
       "1        0.980539          0.769561       0.717489  DecisionTreeClassifier\n",
       "2        0.949102          0.795070       0.784753  RandomForestClassifier\n",
       "3        0.860778          0.788942       0.811659    KNeighborsClassifier\n",
       "4        0.791916          0.784487       0.784753              GaussianNB\n",
       "5        0.838323          0.824898       0.820628                     SVC\n",
       "6        0.836826          0.736590       0.789238      AdaBoostClassifier\n",
       "7        0.793413          0.812867       0.771300           SGDClassifier\n",
       "8        0.950599          0.817413       0.811659          LGBMClassifier"
      ]
     },
     "execution_count": 905,
     "metadata": {},
     "output_type": "execute_result"
    }
   ],
   "source": [
    "Accurracy_Score[:,0] = df['train_accuracy']\n",
    "Accurracy_Score[:,1]=My_Scores['Cross Validation Scores']\n",
    "Accurracy_Score[:,2] = df['test_accuracy']\n",
    "\n",
    "np.savetxt('Accuracy_Scores', Accurracy_Score)\n",
    "data_accuracy = np.loadtxt('Accuracy_Scores')\n",
    "\n",
    "Accuracy_data = pd.DataFrame(data_accuracy, columns=['train_accuracy', 'Cross Validation', 'test_accuracy'])\n",
    "Accuracy_data['Model'] = df['Name']\n",
    "Accuracy_data\n",
    "\n"
   ]
  },
  {
   "cell_type": "markdown",
   "id": "f7bb7a52",
   "metadata": {},
   "source": [
    "But instead of just looking at the mean accuracy across the 10 cross-validation folds, let's plot all 10 scores for each model, along with a box plot highlighting the lower and upper quartiles, and \"whiskers\" showing the extent of the scores (thanks to Nevin Yilmaz for suggesting this visualization). Note that the `boxplot()` function detects outliers (called \"fliers\") and does not include them within the whiskers. Specifically, if the lower quartile is $Q_1$ and the upper quartile is $Q_3$, then the interquartile range $IQR = Q_3 - Q_1$ (this is the box's height), and any score lower than $Q_1 - 1.5 \\times IQR$ is a flier, and so is any score greater than $Q3 + 1.5 \\times IQR$."
   ]
  },
  {
   "cell_type": "code",
   "execution_count": 906,
   "id": "0c2bba67",
   "metadata": {},
   "outputs": [
    {
     "data": {
      "image/png": "[encoded data removed]",
      "text/plain": [
       "<Figure size 720x288 with 1 Axes>"
      ]
     },
     "metadata": {
      "needs_background": "light"
     },
     "output_type": "display_data"
    }
   ],
   "source": [
    "import matplotlib.pyplot as plt\n",
    "\n",
    "plt.figure(figsize=(10, 4))\n",
    "plt.plot([1]*10, allscores[0], \".\")\n",
    "plt.plot([2]*10, allscores[1], \".\")\n",
    "plt.plot([3]*10, allscores[2], \".\")\n",
    "plt.plot([4]*10, allscores[3], \".\")\n",
    "plt.plot([5]*10, allscores[4], \".\")\n",
    "plt.plot([6]*10, allscores[5], \".\")\n",
    "plt.plot([7]*10, allscores[6], \".\")\n",
    "plt.plot([8]*10, allscores[7], \".\")\n",
    "plt.plot([9]*10, allscores[8], \".\")\n",
    "#plt.plot([10]*10, allscores[9], \".\")\n",
    "plt.boxplot([allscores[0], allscores[1],allscores[2],allscores[3],allscores[4],allscores[5]\n",
    "             ,allscores[6],allscores[7],allscores[8]],\n",
    "             labels=(\"Log\",\"Tree\",'Forest','Knn','Gauss','SVC','ADA','SGB','LGB'))\n",
    "plt.ylabel(\"Accuracy\", fontsize=14)\n",
    "plt.show()"
   ]
  },
  {
   "cell_type": "code",
   "execution_count": 907,
   "id": "2e0eadd0",
   "metadata": {},
   "outputs": [],
   "source": [
    "def get_results(model, name, results=None, data=X_train, reasume=False):\n",
    "    modelo = model.fit(data, y_train)\n",
    "    print('Mean Best Accuracy: {:2.2%}'.format(gs.best_score_))\n",
    "    print(gs.best_params_,'\\n')\n",
    "    best = gs.best_estimator_\n",
    "    param_grid = best\n",
    "    y_pred = model.predict(data)\n",
    "    print('Accuracy:', np.round(metrics.accuracy_score(y_train,y_pred),4))\n",
    "    print('Precision:', np.round(metrics.precision_score(y_train,y_pred,average='weighted'),4))\n",
    "    print('Recall:', np.round(metrics.recall_score(y_train,y_pred,average='weighted'),4))\n",
    "    print('F1 Score:', np.round(metrics.f1_score(y_train,y_pred,average='weighted'),4))\n",
    "    report = metrics.classification_report(y_true=y_train, y_pred=y_pred) \n",
    "    print(report)\n",
    "#     meu.display_model_performance_metrics(true_labels=y_train, predicted_labels=y_pred)\n",
    "#     print('\\n\\n              ROC AUC Score: {:2.2%}'.format(roc_auc_score(y_true=y_train, y_score=y_pred)))\n",
    "    if hasattr(param_grid, 'predict_proba'):\n",
    "        prob = model.predict_proba(data)\n",
    "        score_roc = prob[:, prob.shape[1]-1] \n",
    "        prob = True\n",
    "    elif hasattr(param_grid, 'decision_function'):\n",
    "                score_roc = model.decision_function(X_train)\n",
    "                prob = False\n",
    "    else:\n",
    "        raise AttributeError(\"Estimator doesn't have a probability or confidence scoring system!\")\n",
    "    fpr, tpr, thresholds = roc_curve(y_true=y_train, y_score=score_roc)\n",
    "    roc_auc = auc(fpr, tpr)\n",
    "    plt.title('Receiver Operating Characteristic (ROC) Curve')\n",
    "    plt.plot(fpr, tpr, 'b', label='AUC = {:2.2%}'.format(roc_auc))\n",
    "    plt.grid(True)\n",
    "    plt.legend(loc='lower right')\n",
    "    plt.ylabel('True Positive Rate')\n",
    "    plt.xlabel('False Positive Rate')\n",
    "    plt.plot([0, 1], [0, 1], 'k--')\n",
    "    plt.show()\n",
    "\n",
    "    r1 = pd.DataFrame([(prob, gs.best_score_, np.round(accuracy_score(y_train, y_pred), 4), \n",
    "                             roc_auc_score(y_true=y_train, y_score=y_pred), roc_auc)], index = [name],\n",
    "                             columns = ['Prob', 'CV Accuracy', 'Acc All', 'ROC AUC Score', 'ROC Area'])\n",
    "    if reasume:\n",
    "        results = r1\n",
    "    elif (name in results.index):\n",
    "        results.loc[[name], :] = r1\n",
    "    else: \n",
    "        results = results.append(r1)\n",
    "    return results, modelo"
   ]
  },
  {
   "cell_type": "markdown",
   "id": "d4ad7846",
   "metadata": {},
   "source": [
    "# Fine-Tuning the Model LogisticRegression"
   ]
  },
  {
   "cell_type": "code",
   "execution_count": 908,
   "id": "a59093ce",
   "metadata": {},
   "outputs": [
    {
     "name": "stdout",
     "output_type": "stream",
     "text": [
      "Fitting 5 folds for each of 304 candidates, totalling 1520 fits\n",
      "Mean Best Accuracy: 81.13%\n",
      "{'clf__C': 0.009, 'clf__max_iter': 2, 'clf__penalty': 'l2', 'clf__solver': 'newton-cg', 'clf__tol': 0.001} \n",
      "\n",
      "Accuracy: 0.8039\n",
      "Precision: 0.8026\n",
      "Recall: 0.8039\n",
      "F1 Score: 0.7996\n",
      "              precision    recall  f1-score   support\n",
      "\n",
      "           0       0.81      0.89      0.85       415\n",
      "           1       0.79      0.66      0.72       253\n",
      "\n",
      "    accuracy                           0.80       668\n",
      "   macro avg       0.80      0.78      0.78       668\n",
      "weighted avg       0.80      0.80      0.80       668\n",
      "\n"
     ]
    },
    {
     "data": {
      "image/png": "[encoded data removed]",
      "text/plain": [
       "<Figure size 432x288 with 1 Axes>"
      ]
     },
     "metadata": {
      "needs_background": "light"
     },
     "output_type": "display_data"
    }
   ],
   "source": [
    "clf = Pipeline([('clf', LogisticRegression(random_state=101))]) \n",
    "n_components= [25, 22, 31, 54]\n",
    "whiten = [True, False]\n",
    "C =  [0.008, 0.007, 0.009, 0.01]#, 0.1, 1.0, 10.0, 100.0, 1000.0]\n",
    "tol = [0.001, 0.003, 0.002, 0.005]\n",
    "\n",
    "param_grid =[{'clf__C': C,'clf__solver': ['liblinear', 'saga'] ,'clf__penalty': ['l1', 'l2'],'clf__tol' : tol \n",
    "              ,'clf__class_weight': ['balanced']},{'clf__C': C,'clf__max_iter': [3, 9, 2, 7, 4]\n",
    "                                                   ,'clf__solver': ['newton-cg', 'sag', 'lbfgs']\n",
    "                                                   ,'clf__penalty': ['l2'],'clf__tol' : tol  }]\n",
    "\n",
    "gs = GridSearchCV(estimator=clf, param_grid=param_grid, scoring='accuracy', cv=5, verbose=1, n_jobs=3)\n",
    "# gs.fit(X_train,y_train)\n",
    "\n",
    "main_pip = Pipeline([('scl', StandardScaler()),\n",
    "                     ('lda', LDA(store_covariance=True)),\n",
    "                     ('gs', gs)])  \n",
    "\n",
    "results, lr = get_results(main_pip, 'LogisticRegression', reasume=True)\n",
    "    \n"
   ]
  },
  {
   "cell_type": "markdown",
   "id": "ba543dc3",
   "metadata": {},
   "source": [
    "# Fine-Tuning the Model Support Vector Classification"
   ]
  },
  {
   "cell_type": "code",
   "execution_count": 909,
   "id": "7c42fd77",
   "metadata": {},
   "outputs": [
    {
     "name": "stdout",
     "output_type": "stream",
     "text": [
      "Fitting 5 folds for each of 108 candidates, totalling 540 fits\n",
      "Mean Best Accuracy: 79.79%\n",
      "{'clf__C': 0.05, 'clf__class_weight': 'balanced', 'clf__dual': True, 'clf__loss': 'hinge', 'clf__max_iter': 9, 'clf__penalty': 'l2', 'clf__tol': 1e-06} \n",
      "\n",
      "Accuracy: 0.7979\n",
      "Precision: 0.7967\n",
      "Recall: 0.7979\n",
      "F1 Score: 0.7972\n",
      "              precision    recall  f1-score   support\n",
      "\n",
      "           0       0.83      0.85      0.84       415\n",
      "           1       0.74      0.72      0.73       253\n",
      "\n",
      "    accuracy                           0.80       668\n",
      "   macro avg       0.79      0.78      0.78       668\n",
      "weighted avg       0.80      0.80      0.80       668\n",
      "\n"
     ]
    },
    {
     "data": {
      "image/png": "[encoded data removed]",
      "text/plain": [
       "<Figure size 432x288 with 1 Axes>"
      ]
     },
     "metadata": {
      "needs_background": "light"
     },
     "output_type": "display_data"
    }
   ],
   "source": [
    "clf = Pipeline([\n",
    "            #('pca', PCA(random_state = 101)),\n",
    "            ('clf', LinearSVC(random_state=101))])\n",
    "\n",
    "    # a list of dictionaries to specify the parameters that we'd want to tune\n",
    "n_components= [25, 22, 31, 54]\n",
    "whiten = [True, False]\n",
    "C =  [0.5, 0.3, 0.05, 0.1] #, 1.0, 10.0, 100.0, 1000.0]\n",
    "tol = [1e-06, 3e-06, 5e-07]\n",
    "max_iter = [9, 15, 7]\n",
    "\n",
    "param_grid =\\\n",
    "        [{'clf__loss': ['hinge']\n",
    "         ,'clf__tol': tol\n",
    "         ,'clf__C': C\n",
    "         ,'clf__penalty': ['l2']\n",
    "         ,'clf__class_weight' : ['balanced'] \n",
    "         ,'clf__max_iter' : max_iter\n",
    "         ,'clf__dual' : [True]\n",
    "         #,'pca__n_components' : n_components\n",
    "         #,'pca__whiten' : whiten\n",
    "         }\n",
    "        ,{'clf__loss': ['squared_hinge']\n",
    "         ,'clf__tol': tol\n",
    "         ,'clf__C': C\n",
    "         ,'clf__penalty': ['l2', 'l1']\n",
    "         ,'clf__class_weight' : ['balanced'] \n",
    "         ,'clf__max_iter' : max_iter\n",
    "         ,'clf__dual' : [False]\n",
    "         #,'pca__n_components' : n_components\n",
    "         #,'pca__whiten' : whiten\n",
    "         }]\n",
    "\n",
    "gs = GridSearchCV(estimator=clf, param_grid=param_grid, scoring='accuracy', cv=5, verbose=1, n_jobs=3)\n",
    "main_pip = Pipeline([\n",
    "            \n",
    "            ('scl', StandardScaler()),\n",
    "            ('lda', LDA(store_covariance=True)),\n",
    "            ('gs', gs)\n",
    "     ])  \n",
    "\n",
    "results, lsvc = get_results(main_pip, 'LinearSVC', results)"
   ]
  },
  {
   "cell_type": "markdown",
   "id": "38c12e68",
   "metadata": {},
   "source": [
    "# Fine-Tuning the Model RandomForestClassifier"
   ]
  },
  {
   "cell_type": "code",
   "execution_count": 910,
   "id": "88f4b25c",
   "metadata": {},
   "outputs": [
    {
     "name": "stdout",
     "output_type": "stream",
     "text": [
      "Fitting 5 folds for each of 36 candidates, totalling 180 fits\n",
      "Mean Best Accuracy: 81.29%\n",
      "{'clf__class_weight': 'balanced', 'clf__criterion': 'gini', 'clf__min_impurity_split': 0.05, 'clf__min_samples_split': 5, 'clf__n_estimators': 500} \n",
      "\n",
      "Accuracy: 0.9416\n",
      "Precision: 0.9415\n",
      "Recall: 0.9416\n",
      "F1 Score: 0.9415\n",
      "              precision    recall  f1-score   support\n",
      "\n",
      "           0       0.95      0.96      0.95       415\n",
      "           1       0.93      0.92      0.92       253\n",
      "\n",
      "    accuracy                           0.94       668\n",
      "   macro avg       0.94      0.94      0.94       668\n",
      "weighted avg       0.94      0.94      0.94       668\n",
      "\n"
     ]
    },
    {
     "data": {
      "image/png": "[encoded data removed]",
      "text/plain": [
       "<Figure size 432x288 with 1 Axes>"
      ]
     },
     "metadata": {
      "needs_background": "light"
     },
     "output_type": "display_data"
    }
   ],
   "source": [
    "clf = Pipeline([\n",
    "            #('pca', PCA(random_state = 101)),\n",
    "            ('clf', RandomForestClassifier(random_state=101))])\n",
    "\n",
    "    # a list of dictionaries to specify the parameters that we'd want to tune\n",
    "n_components= [25, 22, 31, 54]\n",
    "whiten = [True, False]\n",
    "param_grid =\\\n",
    "        [{'clf__n_estimators' : [500, 3000]\n",
    "          ,'clf__criterion': ['gini', 'entropy']\n",
    "          ,'clf__min_samples_split': [4, 3, 5]\n",
    "          ,'clf__min_impurity_split': [0.05, 0.03, 0.07]\n",
    "          #,'clf__max_depth': [5, 10]\n",
    "          #,'clf__min_impurity_decrease': [0.0003]\n",
    "          #,'clf__min_samples_leaf': [1,2,3,4]\n",
    "          ,'clf__class_weight': ['balanced']\n",
    "          #,'clf__bootstrap': [True, False]\n",
    "         #,'pca__n_components' : n_components\n",
    "         #,'pca__whiten' : whiten\n",
    "         }]\n",
    "\n",
    "# sele = bcols\n",
    "gs = GridSearchCV(estimator=clf, param_grid=param_grid, scoring='accuracy', cv=5, verbose=1, n_jobs=3)\n",
    "main_pip = Pipeline([\n",
    "            ('scl', StandardScaler()),\n",
    "            ('gs', gs)\n",
    "     ])  \n",
    "\n",
    "results, rfc = get_results(main_pip, 'RandomForestClassifier', results)"
   ]
  },
  {
   "cell_type": "markdown",
   "id": "9d00c85c",
   "metadata": {},
   "source": [
    "# Fine-Tuning the Model KNeighborsClassifier"
   ]
  },
  {
   "cell_type": "code",
   "execution_count": 911,
   "id": "90a13a05",
   "metadata": {},
   "outputs": [
    {
     "name": "stdout",
     "output_type": "stream",
     "text": [
      "Fitting 5 folds for each of 128 candidates, totalling 640 fits\n",
      "Mean Best Accuracy: 80.08%\n",
      "{'clf__algorithm': 'ball_tree', 'clf__leaf_size': 12, 'clf__n_neighbors': 9, 'clf__p': 1, 'clf__weights': 'uniform'} \n",
      "\n",
      "Accuracy: 0.8189\n",
      "Precision: 0.8197\n",
      "Recall: 0.8189\n",
      "F1 Score: 0.814\n",
      "              precision    recall  f1-score   support\n",
      "\n",
      "           0       0.82      0.92      0.86       415\n",
      "           1       0.83      0.66      0.73       253\n",
      "\n",
      "    accuracy                           0.82       668\n",
      "   macro avg       0.82      0.79      0.80       668\n",
      "weighted avg       0.82      0.82      0.81       668\n",
      "\n"
     ]
    },
    {
     "data": {
      "image/png": "[encoded data removed]",
      "text/plain": [
       "<Figure size 432x288 with 1 Axes>"
      ]
     },
     "metadata": {
      "needs_background": "light"
     },
     "output_type": "display_data"
    }
   ],
   "source": [
    "clf = Pipeline([\n",
    "            #('pca', PCA(random_state = 101)),\n",
    "            ('clf', KNeighborsClassifier())])\n",
    "\n",
    "    #max_iter_predict=500, n_restarts_optimizer=5\n",
    "    # a list of dictionaries to specify the parameters that we'd want to tune\n",
    "n_components= [25, 22, 31, 54]\n",
    "whiten = [True, False]\n",
    "param_grid =\\\n",
    "        [{'clf__n_neighbors': [3, 7, 8, 9] #\n",
    "         ,'clf__weights': ['uniform', 'distance'] \n",
    "         ,'clf__algorithm' : ['ball_tree', 'kd_tree'] # ['auto', 'ball_tree', 'kd_tree', 'brute']\n",
    "         ,'clf__leaf_size': [12, 15, 16, 20]\n",
    "         ,'clf__p': [1, 2] \n",
    "         #,'pca__n_components' : n_components\n",
    "         #,'pca__whiten' : whiten\n",
    "         }]\n",
    "\n",
    "gs = GridSearchCV(estimator=clf, param_grid=param_grid, scoring='accuracy', cv=5, verbose=1, n_jobs=3)\n",
    "main_pip = Pipeline([\n",
    "            ('scl', StandardScaler()),\n",
    "            ('lda', LDA(store_covariance=True)),\n",
    "            ('gs', gs)\n",
    "     ])  \n",
    "\n",
    "results, KNNC = get_results(main_pip, 'KNeighborsClassifier', results)"
   ]
  },
  {
   "cell_type": "markdown",
   "id": "cd19914a",
   "metadata": {},
   "source": [
    "# Fine-Tuning the Model SGDClassifier"
   ]
  },
  {
   "cell_type": "code",
   "execution_count": 912,
   "id": "72237250",
   "metadata": {},
   "outputs": [
    {
     "name": "stdout",
     "output_type": "stream",
     "text": [
      "Fitting 5 folds for each of 300 candidates, totalling 1500 fits\n",
      "Mean Best Accuracy: 79.94%\n",
      "{'clf__alpha': 0.001, 'clf__class_weight': 'balanced', 'clf__loss': 'hinge', 'clf__penalty': 'l1', 'clf__tol': 1e-08} \n",
      "\n",
      "Accuracy: 0.7979\n",
      "Precision: 0.7967\n",
      "Recall: 0.7979\n",
      "F1 Score: 0.7972\n",
      "              precision    recall  f1-score   support\n",
      "\n",
      "           0       0.83      0.85      0.84       415\n",
      "           1       0.74      0.72      0.73       253\n",
      "\n",
      "    accuracy                           0.80       668\n",
      "   macro avg       0.79      0.78      0.78       668\n",
      "weighted avg       0.80      0.80      0.80       668\n",
      "\n"
     ]
    },
    {
     "data": {
      "image/png": "[encoded data removed]",
      "text/plain": [
       "<Figure size 432x288 with 1 Axes>"
      ]
     },
     "metadata": {
      "needs_background": "light"
     },
     "output_type": "display_data"
    }
   ],
   "source": [
    "clf = Pipeline([\n",
    "            #('pca', PCA(random_state = 101)),\n",
    "            ('clf', SGDClassifier(random_state=101))])\n",
    "\n",
    "    # a list of dictionaries to specify the parameters that we'd want to tune\n",
    "n_components= [30, 22, 21, 50]\n",
    "whiten = [True, False]\n",
    "alpha = [4e-03, 5e-03, 6e-03, 1e-03]\n",
    "tol = [1e-08, 1e-07, 5e-09]\n",
    "\n",
    "param_grid =\\\n",
    "        [{'clf__loss': ['hinge', 'log', 'modified_huber', 'squared_hinge', 'perceptron']\n",
    "         ,'clf__tol': tol\n",
    "         ,'clf__alpha': alpha\n",
    "         ,'clf__penalty': ['l2', 'l1']\n",
    "         ,'clf__class_weight' : ['balanced'] \n",
    "         #,'pca__n_components' : n_components\n",
    "         #,'pca__whiten' : whiten\n",
    "         },\n",
    "        {'clf__loss': ['hinge', 'log', 'modified_huber', 'squared_hinge', 'perceptron']\n",
    "         ,'clf__tol': tol\n",
    "         ,'clf__alpha': alpha\n",
    "         ,'clf__penalty': ['elasticnet']\n",
    "         ,'clf__l1_ratio' : [0.3, 0.5, 0.1]\n",
    "         ,'clf__class_weight' : ['balanced'] \n",
    "         #,'pca__n_components' : n_components\n",
    "         #,'pca__whiten' : whiten\n",
    "         }]\n",
    "\n",
    "\n",
    "gs = GridSearchCV(estimator=clf, param_grid=param_grid, scoring='accuracy', cv=5, verbose=1, n_jobs=3)\n",
    "main_pip = Pipeline([\n",
    "            ('scl', StandardScaler()),\n",
    "            ('lda', LDA(store_covariance=True)),\n",
    "            ('gs', gs)\n",
    "     ])  \n",
    "\n",
    "results, svm = get_results(main_pip, 'SGDClassifier', results)"
   ]
  },
  {
   "cell_type": "markdown",
   "id": "630a00ee",
   "metadata": {},
   "source": [
    "# Fine-Tuning the Model AdaBoostClassifier"
   ]
  },
  {
   "cell_type": "code",
   "execution_count": 913,
   "id": "76a8f343",
   "metadata": {},
   "outputs": [
    {
     "name": "stdout",
     "output_type": "stream",
     "text": [
      "Fitting 5 folds for each of 24 candidates, totalling 120 fits\n",
      "Mean Best Accuracy: 80.99%\n",
      "{'clf__algorithm': 'SAMME', 'clf__learning_rate': 0.15, 'clf__n_estimators': 300} \n",
      "\n",
      "Accuracy: 0.8174\n",
      "Precision: 0.8273\n",
      "Recall: 0.8174\n",
      "F1 Score: 0.8082\n",
      "              precision    recall  f1-score   support\n",
      "\n",
      "           0       0.80      0.95      0.87       415\n",
      "           1       0.88      0.60      0.71       253\n",
      "\n",
      "    accuracy                           0.82       668\n",
      "   macro avg       0.84      0.78      0.79       668\n",
      "weighted avg       0.83      0.82      0.81       668\n",
      "\n"
     ]
    },
    {
     "data": {
      "image/png": "[encoded data removed]",
      "text/plain": [
       "<Figure size 432x288 with 1 Axes>"
      ]
     },
     "metadata": {
      "needs_background": "light"
     },
     "output_type": "display_data"
    }
   ],
   "source": [
    "clf = Pipeline([\n",
    "            #('pca', PCA(random_state = 101)),\n",
    "            ('clf', AdaBoostClassifier(random_state=101))])\n",
    "    # , max_iter_predict=500, n_restarts_optimizer=5\n",
    "\n",
    "    # a list of dictionaries to specify the parameters that we'd want to tune\n",
    "n_components= [25, 22, 31, 54]\n",
    "whiten = [True, False]\n",
    "\n",
    "param_grid =\\\n",
    "        [{'clf__learning_rate': [3e-03, 15e-02, 5e-02]\n",
    "         ,'clf__n_estimators': [300, 350, 400, 500] # np.arange(96,115)\n",
    "         ,'clf__algorithm' : ['SAMME', 'SAMME.R']\n",
    "         #,'pca__n_components' : n_components\n",
    "         #,'pca__whiten' : whiten\n",
    "         }]\n",
    "\n",
    "gs = GridSearchCV(estimator=clf, param_grid=param_grid, scoring='accuracy', cv=5, verbose=1, n_jobs=3)\n",
    "main_pip = Pipeline([\n",
    "            \n",
    "            ('scl', StandardScaler()),\n",
    "            ('lda', LDA(store_covariance=True)),\n",
    "            ('gs', gs)\n",
    "     ])  \n",
    "\n",
    "results, AdaB = get_results(main_pip, 'AdaBoostClassifier', results)"
   ]
  },
  {
   "cell_type": "markdown",
   "id": "60fb9ed5",
   "metadata": {},
   "source": [
    "### Check the best results from the models hyper parametrization"
   ]
  },
  {
   "cell_type": "code",
   "execution_count": 914,
   "id": "2242a81b",
   "metadata": {},
   "outputs": [
    {
     "data": {
      "text/html": [
       "<div>\n",
       "<style scoped>\n",
       "    .dataframe tbody tr th:only-of-type {\n",
       "        vertical-align: middle;\n",
       "    }\n",
       "\n",
       "    .dataframe tbody tr th {\n",
       "        vertical-align: top;\n",
       "    }\n",
       "\n",
       "    .dataframe thead th {\n",
       "        text-align: right;\n",
       "    }\n",
       "</style>\n",
       "<table border=\"1\" class=\"dataframe\">\n",
       "  <thead>\n",
       "    <tr style=\"text-align: right;\">\n",
       "      <th></th>\n",
       "      <th>Prob</th>\n",
       "      <th>CV Accuracy</th>\n",
       "      <th>Acc All</th>\n",
       "      <th>ROC AUC Score</th>\n",
       "      <th>ROC Area</th>\n",
       "    </tr>\n",
       "  </thead>\n",
       "  <tbody>\n",
       "    <tr>\n",
       "      <th>RandomForestClassifier</th>\n",
       "      <td>True</td>\n",
       "      <td>0.812917</td>\n",
       "      <td>0.9416</td>\n",
       "      <td>0.936811</td>\n",
       "      <td>0.987152</td>\n",
       "    </tr>\n",
       "    <tr>\n",
       "      <th>KNeighborsClassifier</th>\n",
       "      <td>True</td>\n",
       "      <td>0.800830</td>\n",
       "      <td>0.8189</td>\n",
       "      <td>0.787871</td>\n",
       "      <td>0.897828</td>\n",
       "    </tr>\n",
       "    <tr>\n",
       "      <th>AdaBoostClassifier</th>\n",
       "      <td>True</td>\n",
       "      <td>0.809853</td>\n",
       "      <td>0.8174</td>\n",
       "      <td>0.775094</td>\n",
       "      <td>0.854922</td>\n",
       "    </tr>\n",
       "    <tr>\n",
       "      <th>LogisticRegression</th>\n",
       "      <td>True</td>\n",
       "      <td>0.811346</td>\n",
       "      <td>0.8039</td>\n",
       "      <td>0.775051</td>\n",
       "      <td>0.847469</td>\n",
       "    </tr>\n",
       "    <tr>\n",
       "      <th>LinearSVC</th>\n",
       "      <td>False</td>\n",
       "      <td>0.797879</td>\n",
       "      <td>0.7979</td>\n",
       "      <td>0.781804</td>\n",
       "      <td>0.847469</td>\n",
       "    </tr>\n",
       "    <tr>\n",
       "      <th>SGDClassifier</th>\n",
       "      <td>False</td>\n",
       "      <td>0.799360</td>\n",
       "      <td>0.7979</td>\n",
       "      <td>0.781804</td>\n",
       "      <td>0.847469</td>\n",
       "    </tr>\n",
       "  </tbody>\n",
       "</table>\n",
       "</div>"
      ],
      "text/plain": [
       "                         Prob  CV Accuracy  Acc All  ROC AUC Score  ROC Area\n",
       "RandomForestClassifier   True     0.812917   0.9416       0.936811  0.987152\n",
       "KNeighborsClassifier     True     0.800830   0.8189       0.787871  0.897828\n",
       "AdaBoostClassifier       True     0.809853   0.8174       0.775094  0.854922\n",
       "LogisticRegression       True     0.811346   0.8039       0.775051  0.847469\n",
       "LinearSVC               False     0.797879   0.7979       0.781804  0.847469\n",
       "SGDClassifier           False     0.799360   0.7979       0.781804  0.847469"
      ]
     },
     "metadata": {},
     "output_type": "display_data"
    }
   ],
   "source": [
    "display(results.sort_values(by='ROC Area', ascending=False))"
   ]
  },
  {
   "cell_type": "code",
   "execution_count": 915,
   "id": "0729d601",
   "metadata": {},
   "outputs": [],
   "source": [
    "# X_test"
   ]
  },
  {
   "cell_type": "code",
   "execution_count": 916,
   "id": "c6af7088",
   "metadata": {},
   "outputs": [],
   "source": [
    "X_test= test_dataset.drop(columns =['Survived','PassengerId'])"
   ]
  },
  {
   "cell_type": "code",
   "execution_count": 931,
   "id": "30592afd",
   "metadata": {},
   "outputs": [],
   "source": [
    "X_data_test = preprocess_pipeline.transform(X_test[num_attribs + cat_attribs])\n",
    "X_test_Prediction = models[2].predict(X_data_test)\n",
    "\n",
    "#clf =RandomForestClassifier()\n",
    "# X_data_test = preprocess_pipeline.transform(X_test[num_attribs + cat_attribs])\n",
    "# X_test_Prediction = clf.predict(X_data_test)"
   ]
  },
  {
   "cell_type": "code",
   "execution_count": null,
   "id": "662bb116",
   "metadata": {},
   "outputs": [],
   "source": []
  },
  {
   "cell_type": "code",
   "execution_count": 932,
   "id": "9c4aeeca",
   "metadata": {},
   "outputs": [
    {
     "data": {
      "text/plain": [
       "array([0, 1, 0, 0, 1, 0, 1, 0, 1, 0, 0, 0, 1, 0, 1, 1, 0, 0, 1, 1, 0, 0,\n",
       "       1, 0, 1, 0, 1, 0, 0, 0, 0, 0, 1, 1, 0, 0, 1, 1, 0, 0, 0, 0, 0, 1,\n",
       "       1, 0, 0, 0, 1, 1, 0, 0, 1, 1, 0, 0, 0, 0, 0, 1, 0, 0, 0, 1, 0, 1,\n",
       "       1, 0, 0, 1, 1, 0, 1, 0, 1, 0, 0, 1, 0, 1, 0, 0, 0, 0, 0, 0, 1, 1,\n",
       "       1, 0, 1, 0, 1, 0, 0, 0, 1, 0, 1, 0, 1, 0, 0, 0, 1, 0, 0, 0, 0, 0,\n",
       "       0, 1, 1, 1, 1, 0, 0, 1, 0, 1, 1, 0, 1, 0, 0, 1, 0, 1, 0, 0, 0, 0,\n",
       "       1, 0, 0, 0, 0, 0, 1, 0, 1, 1, 0, 0, 0, 0, 0, 0, 0, 0, 1, 0, 0, 1,\n",
       "       0, 0, 1, 1, 0, 1, 1, 0, 1, 0, 0, 1, 0, 0, 1, 1, 0, 0, 0, 0, 0, 1,\n",
       "       1, 0, 1, 1, 0, 0, 1, 0, 1, 0, 1, 0, 1, 0, 0, 0, 0, 0, 0, 0, 0, 1,\n",
       "       0, 1, 1, 0, 0, 1, 0, 0, 1, 0, 1, 0, 0, 0, 0, 1, 1, 0, 1, 0, 1, 0,\n",
       "       1, 0, 1, 0, 1, 1, 0, 1, 0, 0, 0, 1, 0, 0, 0, 0, 0, 0, 1, 1, 1, 1,\n",
       "       0, 0, 0, 0, 1, 0, 1, 1, 1, 0, 0, 0, 0, 0, 0, 0, 1, 0, 0, 0, 1, 1,\n",
       "       0, 0, 0, 0, 1, 0, 0, 0, 1, 1, 0, 1, 0, 0, 0, 0, 1, 0, 1, 1, 1, 0,\n",
       "       0, 0, 0, 0, 0, 1, 0, 0, 0, 0, 1, 0, 0, 0, 0, 0, 0, 0, 1, 1, 0, 0,\n",
       "       0, 1, 0, 0, 0, 1, 1, 1, 0, 0, 0, 0, 0, 0, 0, 0, 1, 0, 1, 0, 0, 0,\n",
       "       1, 0, 0, 1, 0, 0, 0, 0, 0, 0, 0, 0, 0, 1, 0, 1, 0, 1, 0, 1, 1, 0,\n",
       "       0, 0, 1, 0, 1, 0, 0, 1, 0, 1, 1, 0, 1, 1, 0, 1, 1, 0, 0, 1, 0, 0,\n",
       "       1, 1, 1, 0, 0, 0, 0, 0, 1, 1, 0, 1, 0, 0, 0, 0, 0, 1, 0, 0, 0, 1,\n",
       "       0, 1, 0, 0, 1, 0, 1, 0, 0, 0, 0, 0, 1, 1, 1, 1, 1, 0, 1, 0, 0, 0])"
      ]
     },
     "execution_count": 932,
     "metadata": {},
     "output_type": "execute_result"
    }
   ],
   "source": [
    "X_test_Prediction"
   ]
  },
  {
   "cell_type": "code",
   "execution_count": null,
   "id": "8c1bfd48",
   "metadata": {},
   "outputs": [],
   "source": []
  },
  {
   "cell_type": "code",
   "execution_count": 933,
   "id": "a361cfca",
   "metadata": {},
   "outputs": [],
   "source": [
    "MySurvival = pd.DataFrame(test_dataset['PassengerId'])\n",
    "MySurvival['Survived'] = X_test_Prediction\n",
    "\n",
    "MySurvival.to_csv('predictions.csv', index=False)"
   ]
  },
  {
   "cell_type": "markdown",
   "id": "c1711941",
   "metadata": {},
   "source": [
    "### Results"
   ]
  },
  {
   "cell_type": "code",
   "execution_count": 935,
   "id": "f81a4663",
   "metadata": {},
   "outputs": [],
   "source": [
    "MyResult = pd.read_csv('predictions.csv')"
   ]
  },
  {
   "cell_type": "code",
   "execution_count": 936,
   "id": "96c8fa22",
   "metadata": {},
   "outputs": [],
   "source": [
    "MyResult['Outcome'] = MyResult['Survived']"
   ]
  },
  {
   "cell_type": "code",
   "execution_count": 937,
   "id": "34f73ae3",
   "metadata": {},
   "outputs": [],
   "source": [
    "MyResult.loc[MyResult['Survived']== 0, 'Outcome']='Dead 😭'\n",
    "MyResult.loc[MyResult['Survived']== 1, 'Outcome']='Alive 🤩'"
   ]
  },
  {
   "cell_type": "code",
   "execution_count": 938,
   "id": "1c3f635a",
   "metadata": {},
   "outputs": [
    {
     "data": {
      "text/html": [
       "<div>\n",
       "<style scoped>\n",
       "    .dataframe tbody tr th:only-of-type {\n",
       "        vertical-align: middle;\n",
       "    }\n",
       "\n",
       "    .dataframe tbody tr th {\n",
       "        vertical-align: top;\n",
       "    }\n",
       "\n",
       "    .dataframe thead th {\n",
       "        text-align: right;\n",
       "    }\n",
       "</style>\n",
       "<table border=\"1\" class=\"dataframe\">\n",
       "  <thead>\n",
       "    <tr style=\"text-align: right;\">\n",
       "      <th></th>\n",
       "      <th>PassengerId</th>\n",
       "      <th>Survived</th>\n",
       "      <th>Outcome</th>\n",
       "    </tr>\n",
       "  </thead>\n",
       "  <tbody>\n",
       "    <tr>\n",
       "      <th>0</th>\n",
       "      <td>892</td>\n",
       "      <td>0</td>\n",
       "      <td>Dead 😭</td>\n",
       "    </tr>\n",
       "    <tr>\n",
       "      <th>1</th>\n",
       "      <td>893</td>\n",
       "      <td>1</td>\n",
       "      <td>Alive 🤩</td>\n",
       "    </tr>\n",
       "    <tr>\n",
       "      <th>2</th>\n",
       "      <td>894</td>\n",
       "      <td>0</td>\n",
       "      <td>Dead 😭</td>\n",
       "    </tr>\n",
       "    <tr>\n",
       "      <th>3</th>\n",
       "      <td>895</td>\n",
       "      <td>0</td>\n",
       "      <td>Dead 😭</td>\n",
       "    </tr>\n",
       "    <tr>\n",
       "      <th>4</th>\n",
       "      <td>896</td>\n",
       "      <td>1</td>\n",
       "      <td>Alive 🤩</td>\n",
       "    </tr>\n",
       "    <tr>\n",
       "      <th>5</th>\n",
       "      <td>897</td>\n",
       "      <td>0</td>\n",
       "      <td>Dead 😭</td>\n",
       "    </tr>\n",
       "    <tr>\n",
       "      <th>6</th>\n",
       "      <td>898</td>\n",
       "      <td>1</td>\n",
       "      <td>Alive 🤩</td>\n",
       "    </tr>\n",
       "    <tr>\n",
       "      <th>7</th>\n",
       "      <td>899</td>\n",
       "      <td>0</td>\n",
       "      <td>Dead 😭</td>\n",
       "    </tr>\n",
       "    <tr>\n",
       "      <th>8</th>\n",
       "      <td>900</td>\n",
       "      <td>1</td>\n",
       "      <td>Alive 🤩</td>\n",
       "    </tr>\n",
       "    <tr>\n",
       "      <th>9</th>\n",
       "      <td>901</td>\n",
       "      <td>0</td>\n",
       "      <td>Dead 😭</td>\n",
       "    </tr>\n",
       "    <tr>\n",
       "      <th>10</th>\n",
       "      <td>902</td>\n",
       "      <td>0</td>\n",
       "      <td>Dead 😭</td>\n",
       "    </tr>\n",
       "    <tr>\n",
       "      <th>11</th>\n",
       "      <td>903</td>\n",
       "      <td>0</td>\n",
       "      <td>Dead 😭</td>\n",
       "    </tr>\n",
       "    <tr>\n",
       "      <th>12</th>\n",
       "      <td>904</td>\n",
       "      <td>1</td>\n",
       "      <td>Alive 🤩</td>\n",
       "    </tr>\n",
       "    <tr>\n",
       "      <th>13</th>\n",
       "      <td>905</td>\n",
       "      <td>0</td>\n",
       "      <td>Dead 😭</td>\n",
       "    </tr>\n",
       "    <tr>\n",
       "      <th>14</th>\n",
       "      <td>906</td>\n",
       "      <td>1</td>\n",
       "      <td>Alive 🤩</td>\n",
       "    </tr>\n",
       "    <tr>\n",
       "      <th>15</th>\n",
       "      <td>907</td>\n",
       "      <td>1</td>\n",
       "      <td>Alive 🤩</td>\n",
       "    </tr>\n",
       "    <tr>\n",
       "      <th>16</th>\n",
       "      <td>908</td>\n",
       "      <td>0</td>\n",
       "      <td>Dead 😭</td>\n",
       "    </tr>\n",
       "    <tr>\n",
       "      <th>17</th>\n",
       "      <td>909</td>\n",
       "      <td>0</td>\n",
       "      <td>Dead 😭</td>\n",
       "    </tr>\n",
       "    <tr>\n",
       "      <th>18</th>\n",
       "      <td>910</td>\n",
       "      <td>1</td>\n",
       "      <td>Alive 🤩</td>\n",
       "    </tr>\n",
       "    <tr>\n",
       "      <th>19</th>\n",
       "      <td>911</td>\n",
       "      <td>1</td>\n",
       "      <td>Alive 🤩</td>\n",
       "    </tr>\n",
       "  </tbody>\n",
       "</table>\n",
       "</div>"
      ],
      "text/plain": [
       "    PassengerId  Survived  Outcome\n",
       "0           892         0   Dead 😭\n",
       "1           893         1  Alive 🤩\n",
       "2           894         0   Dead 😭\n",
       "3           895         0   Dead 😭\n",
       "4           896         1  Alive 🤩\n",
       "5           897         0   Dead 😭\n",
       "6           898         1  Alive 🤩\n",
       "7           899         0   Dead 😭\n",
       "8           900         1  Alive 🤩\n",
       "9           901         0   Dead 😭\n",
       "10          902         0   Dead 😭\n",
       "11          903         0   Dead 😭\n",
       "12          904         1  Alive 🤩\n",
       "13          905         0   Dead 😭\n",
       "14          906         1  Alive 🤩\n",
       "15          907         1  Alive 🤩\n",
       "16          908         0   Dead 😭\n",
       "17          909         0   Dead 😭\n",
       "18          910         1  Alive 🤩\n",
       "19          911         1  Alive 🤩"
      ]
     },
     "execution_count": 938,
     "metadata": {},
     "output_type": "execute_result"
    }
   ],
   "source": [
    "MyResult.head(20)"
   ]
  },
  {
   "cell_type": "code",
   "execution_count": null,
   "id": "88315b0a",
   "metadata": {},
   "outputs": [],
   "source": []
  },
  {
   "cell_type": "code",
   "execution_count": null,
   "id": "5e2fd71d",
   "metadata": {},
   "outputs": [],
   "source": []
  }
 ],
 "metadata": {
  "kernelspec": {
   "display_name": "Python 3",
   "language": "python",
   "name": "python3"
  },
  "language_info": {
   "codemirror_mode": {
    "name": "ipython",
    "version": 3
   },
   "file_extension": ".py",
   "mimetype": "text/x-python",
   "name": "python",
   "nbconvert_exporter": "python",
   "pygments_lexer": "ipython3",
   "version": "3.8.8"
  }
 },
 "nbformat": 4,
 "nbformat_minor": 5
}
